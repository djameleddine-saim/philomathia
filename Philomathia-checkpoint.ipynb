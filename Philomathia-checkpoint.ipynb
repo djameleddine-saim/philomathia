{
 "cells": [
  {
   "cell_type": "markdown",
   "metadata": {
    "id": "mYr0YGpbJpWY"
   },
   "source": [
    "# Philomathia\n"
   ]
  },
  {
   "cell_type": "markdown",
   "metadata": {
    "id": "DDnH8RevvQ2-"
   },
   "source": [
    "Sommaire :\n",
    "* Algèbre linéaire\n",
    "* Probabilités et Statistique\n",
    "* Calcul de dérivée\n",
    "* Aller plus loin..."
   ]
  },
  {
   "cell_type": "markdown",
   "metadata": {
    "id": "mqYa4P1AYLF8"
   },
   "source": [
    "**Pourquoi Python pour les mathématiques ?**\n",
    "\n",
    "Le langage Python est un langage généraliste, offrant des bibliothèques puissantes en calcul numérique (NumPy, SciPy, SymPy, Matplotlib,...), facilitant les opérations mathématiques plus ou moins complexes, l'analyse statistique et la visualisation des données. Son interactivité via des environnements comme Jupyter Notebook favorise un processus de développement itératif.\n",
    "La communauté active de développeurs et les nombreuses ressources en ligne font de Python un outil incontournable."
   ]
  },
  {
   "cell_type": "markdown",
   "metadata": {
    "id": "hdEXFBsImr5q"
   },
   "source": [
    "**Pourquoi ce projet ?**\n",
    "\n",
    "Dans ce projet, nous allons aborder des notions de mathématiques basiques nécessaires à la prochaine Unit, le Machine Learning. Pas de panique, nous n'allons rien inventer, nous allons simplement utiliser Python afin de manipuler des vecteurs, des matrices, des probabilités, des graphes faire des simulations et d'autres calculs sympatiques !\n",
    "\n",
    "\\\n",
    "\n",
    "**Il n'est bien sûr pas question d'apprendre par coeur les notions apprises dans ce sujet, mais de s'en servir comme un guide pour d'éventuels futurs questionnements.**\n",
    "\n",
    "\\\n",
    "\n",
    "**Merci de lire et de répondre attentivement aux questions ci-dessous. Appuyez-vous sur les ressources de la base de connaissances.**"
   ]
  },
  {
   "cell_type": "markdown",
   "metadata": {
    "id": "s_6BNQr_fGrq"
   },
   "source": [
    "# Librairies utilisées"
   ]
  },
  {
   "cell_type": "code",
   "execution_count": 1,
   "metadata": {
    "executionInfo": {
     "elapsed": 1904,
     "status": "ok",
     "timestamp": 1699280282245,
     "user": {
      "displayName": "Djamel Eddine Saim",
      "userId": "08620524168492467050"
     },
     "user_tz": -60
    },
    "id": "2WjXfJYMi0aA"
   },
   "outputs": [],
   "source": [
    "import numpy as np\n",
    "import pandas as pd\n",
    "import sympy as sp\n",
    "\n",
    "\n",
    "import matplotlib.pyplot as plt\n",
    "import plotly.express as px\n",
    "\n",
    "from sklearn.datasets import load_wine"
   ]
  },
  {
   "cell_type": "markdown",
   "metadata": {
    "id": "tMJvSpupa59E"
   },
   "source": [
    "# Algèbre linéaire\n",
    "Vous devrez exclusivement utiliser la librairie `numpy` dans la section suivante."
   ]
  },
  {
   "cell_type": "markdown",
   "metadata": {
    "id": "ralGJ7YaHXLm"
   },
   "source": [
    "## **Job 0**\n",
    "\n",
    "1. Créez le vecteur ligne $v = (4, 1, 9)$\n",
    "2. Additionnez, multipliez et divisez le vecteur $v$ par $2$  \n",
    "\n"
   ]
  },
  {
   "cell_type": "code",
   "execution_count": 2,
   "metadata": {
    "colab": {
     "base_uri": "https://localhost:8080/"
    },
    "executionInfo": {
     "elapsed": 315,
     "status": "ok",
     "timestamp": 1699280525101,
     "user": {
      "displayName": "Djamel Eddine Saim",
      "userId": "08620524168492467050"
     },
     "user_tz": -60
    },
    "id": "_JUmL7sQMsCV",
    "outputId": "f118532c-cfd2-48d4-d68c-5eb3d41149e9"
   },
   "outputs": [
    {
     "name": "stdout",
     "output_type": "stream",
     "text": [
      "[4 1 9]\n",
      "[ 6  3 11]\n",
      "[ 8  2 18]\n",
      "[2.  0.5 4.5]\n"
     ]
    }
   ],
   "source": [
    "v = np.array([4, 1, 9])\n",
    "v_addition = v + 2\n",
    "v_multiplication = v * 2\n",
    "v_division = v / 2\n",
    "\n",
    "print(v)\n",
    "print(v_addition)\n",
    "print(v_multiplication)\n",
    "print(v_division)"
   ]
  },
  {
   "cell_type": "markdown",
   "metadata": {
    "id": "aheDJxhm1vNL"
   },
   "source": [
    "--------------------------------------------------------------------------------\n"
   ]
  },
  {
   "cell_type": "markdown",
   "metadata": {
    "id": "ZkcCZMIdMw5I"
   },
   "source": [
    "## **Job 1**\n",
    "Additionnez le vecteur $v$ avec le vecteur $w$, définie comme suit $w = (-1, -1, 0)$"
   ]
  },
  {
   "cell_type": "code",
   "execution_count": 3,
   "metadata": {
    "id": "Uf29sdXcM58l"
   },
   "outputs": [
    {
     "data": {
      "text/plain": [
       "array([3, 0, 9])"
      ]
     },
     "execution_count": 3,
     "metadata": {},
     "output_type": "execute_result"
    }
   ],
   "source": [
    "w = np.array([-1, -1, 0])\n",
    "v + w"
   ]
  },
  {
   "cell_type": "markdown",
   "metadata": {
    "id": "ITMFuM1BgG6H"
   },
   "source": [
    "-----------------------------------------------------------------"
   ]
  },
  {
   "cell_type": "markdown",
   "metadata": {
    "id": "yIMtWbHTNgme"
   },
   "source": [
    "## **Job 2**\n",
    "Soient les matrices $M$ et $N$ définies comme suit :\n",
    "$$M = \\begin{pmatrix}\n",
    "1 & 2  \\\\\n",
    "5 & 6\n",
    "\\end{pmatrix},\\space N = \\begin{pmatrix}\n",
    "1 & 1 & -1  \\\\\n",
    "0 & 0 & 1\n",
    "\\end{pmatrix} $$\n",
    "\n",
    "1. Créez les matrices $M$ et $N$. Quelles sont les dimensions de chacune ? Sont-elles des matrices carrées ?\n",
    "2. Est-il possible d'additionner $M$ et $N$ ? Justifiez. Si oui, calculez l'addition.\n",
    "3. Est-il possible de faire le produit matriciel de M par N ? Justifiez. Si oui, calculez le produit.\n",
    "\n"
   ]
  },
  {
   "cell_type": "code",
   "execution_count": 4,
   "metadata": {
    "id": "smbJ7DPBfQxT"
   },
   "outputs": [
    {
     "name": "stdout",
     "output_type": "stream",
     "text": [
      "[[1 2]\n",
      " [5 6]]\n",
      "[[ 1  1 -1]\n",
      " [ 0  0  1]]\n",
      "(2, 2)\n",
      "(2, 3)\n"
     ]
    }
   ],
   "source": [
    "M = np.array([[1, 2], [5, 6]])\n",
    "N = np.array([[1, 1, -1], [0, 0, 1]])\n",
    "print(M)\n",
    "print(N)\n",
    "print(M.shape)\n",
    "print(N.shape)\n",
    "\n"
   ]
  },
  {
   "cell_type": "markdown",
   "metadata": {},
   "source": [
    "M est une matrice de dimension 2x2.\n",
    "N est une matrice de dimension 2x3.\n",
    "\n",
    "Est-ce que ce sont des matrices carrées ?\n",
    "M est une matrice carrée car ses dimensions sont égales.\n",
    "N n'est pas une matrice carrée car ses dimensions ne sont pas égales.\n",
    "\n",
    "Est-il possible d'additionner M et N ?\n",
    "Non, il n'est pas possible d'additionner M et N car les dimensions des deux matrices ne correspondent pas pour effectuer une opération d'addition. Les matrices doivent avoir les mêmes dimensions pour être additionnées.\n",
    "\n",
    "Est-il possible de faire le produit matriciel de M par N ?\n",
    "Oui, il est possible de faire le produit matriciel de M par N car le nombre de colonnes de M (2) correspond au nombre de lignes de N (2). Le résultat sera une matrice de dimension 2x3."
   ]
  },
  {
   "cell_type": "code",
   "execution_count": 5,
   "metadata": {},
   "outputs": [
    {
     "name": "stdout",
     "output_type": "stream",
     "text": [
      "[[1 1 1]\n",
      " [5 5 1]]\n"
     ]
    }
   ],
   "source": [
    "produit_matriciel = np.dot(M, N)\n",
    "print(produit_matriciel)\n"
   ]
  },
  {
   "cell_type": "markdown",
   "metadata": {
    "id": "bPsxeP6rfapL"
   },
   "source": [
    "-----------------------------------"
   ]
  },
  {
   "cell_type": "markdown",
   "metadata": {
    "id": "W5Vfaozbt7_a"
   },
   "source": [
    "## **Job 3**\n",
    "Soit la matrice suivante :\n",
    "$$A = \\begin{pmatrix}\n",
    "1 & 2 & 3 & 4 \\\\\n",
    "5 & 6 & 7 & 8 \\\\\n",
    "9 & 10 & 11 & 12 \\\\\n",
    "13 & 14 & 15 & 16\n",
    "\\end{pmatrix} $$\n",
    "\n",
    "1. Créez et affichez la matrice A\n",
    "\n",
    "2. Créez une copie $C$ de la matrice $A$\n",
    "\n",
    "3. Créez une copie superficielle $B$ de la matrice $A$, sans copier sa référence\n",
    "\n",
    "4. Affichez la valeur se trouvant à la ligne 2 et à la colonne 3\n",
    "\n",
    "5. Affichez tous les éléments de la $2^{ème}$ ligne\n",
    "\n",
    "6. Affichez tous les éléments de la $1^{ème}$ colonne\n",
    "\n",
    "7. Affichez la diagonale de $A$\n",
    "\n",
    "8. Multipliez la matrice $A$ par $\\frac{1}{2}$"
   ]
  },
  {
   "cell_type": "code",
   "execution_count": 6,
   "metadata": {
    "id": "OLlKmDT1gPsr"
   },
   "outputs": [
    {
     "name": "stdout",
     "output_type": "stream",
     "text": [
      "[[ 1  2  3  4]\n",
      " [ 5  6  7  8]\n",
      " [ 9 10 11 12]\n",
      " [13 14 15 16]]\n"
     ]
    }
   ],
   "source": [
    "A = np.array([[1,2,3,4],[5,6,7,8],[9,10,11,12],[13,14,15,16]])\n",
    "print(A)\n",
    "C = np.copy(A)\n",
    "B = A.view()"
   ]
  },
  {
   "cell_type": "code",
   "execution_count": 7,
   "metadata": {},
   "outputs": [
    {
     "name": "stdout",
     "output_type": "stream",
     "text": [
      "7\n"
     ]
    }
   ],
   "source": [
    "#la valeur se trouvant à la ligne 2 et à la colonne 3\n",
    "A2_3 = A[1, 2]\n",
    "print(A2_3)"
   ]
  },
  {
   "cell_type": "code",
   "execution_count": 8,
   "metadata": {},
   "outputs": [
    {
     "name": "stdout",
     "output_type": "stream",
     "text": [
      "[5 6 7 8]\n"
     ]
    }
   ],
   "source": [
    "#tous les éléments de la 2ème ligne\n",
    "deuxieme_ligne = A[1, :]\n",
    "print(deuxieme_ligne)"
   ]
  },
  {
   "cell_type": "code",
   "execution_count": 9,
   "metadata": {},
   "outputs": [
    {
     "name": "stdout",
     "output_type": "stream",
     "text": [
      "[ 1  5  9 13]\n"
     ]
    }
   ],
   "source": [
    "#tous les éléments de la 1ère colonne\n",
    "premiere_colonne = A[:, 0]\n",
    "print(premiere_colonne)"
   ]
  },
  {
   "cell_type": "code",
   "execution_count": 10,
   "metadata": {},
   "outputs": [
    {
     "name": "stdout",
     "output_type": "stream",
     "text": [
      "[ 1  6 11 16]\n"
     ]
    }
   ],
   "source": [
    "#la diagonale de A\n",
    "diagonale_A = np.diag(A)\n",
    "print(diagonale_A)"
   ]
  },
  {
   "cell_type": "code",
   "execution_count": 11,
   "metadata": {},
   "outputs": [
    {
     "name": "stdout",
     "output_type": "stream",
     "text": [
      "[[0.5 1.  1.5 2. ]\n",
      " [2.5 3.  3.5 4. ]\n",
      " [4.5 5.  5.5 6. ]\n",
      " [6.5 7.  7.5 8. ]]\n"
     ]
    }
   ],
   "source": [
    "#Multipliez la matrice A par 1\\2\n",
    "A_mult12 = A * 0.5\n",
    "print(A_mult12)"
   ]
  },
  {
   "cell_type": "markdown",
   "metadata": {
    "id": "egHy1WsBfUc0"
   },
   "source": [
    "-------------------------------------------------------"
   ]
  },
  {
   "cell_type": "markdown",
   "metadata": {
    "id": "7Tv1qDFOo0ID"
   },
   "source": [
    "## **Job 4**\n",
    "Considérons les matrices $A$ et $A_{bis}$ définies comme ci-dessous :\n",
    "\n",
    "$$ A = \\begin{pmatrix}\n",
    "1 & 5 & 3  \\\\\n",
    "2 & 4 & 7\n",
    "\\end{pmatrix}, \\space A_{bis} = \\begin{pmatrix}\n",
    "1 & 2  \\\\\n",
    "5 & 4 \\\\\n",
    "3 & 7\n",
    "\\end{pmatrix}$$\n",
    "\n",
    "1. Quelles sont les dimensions de $A$ et de $A_{bis}$ ?\n",
    "2. Qu'est ce que vous voyez en observant ces deux matrices ?\n",
    "3. Quelle opération mathématique permet d'obtenir $A_{bis}$ comme résultat à partir de $A$ ?\n",
    "4. Quelle fonction Python permet de faire ce type d'opération ?\n",
    "5. A l'aide de l'opération précédente, transformez les vecteurs et les matrices ci-dessous. Affichez leurs dimensions avant et après l'opération :\n",
    "  * $\\begin{pmatrix}\n",
    "7  \\\\\n",
    "4 \\\\\n",
    "1\n",
    "\\end{pmatrix}$\n",
    "\n",
    "  * $\\begin{pmatrix}\n",
    "9 & 0 & 3 \\\\\n",
    "\\end{pmatrix}$\n",
    "\n",
    "  * $\\begin{pmatrix}\n",
    "2 & 4 & 1 \\\\\n",
    "0 & 5 & 2 \\\\\n",
    "3 & 1 & 6\n",
    "\\end{pmatrix}$\n",
    "\n",
    "  * $\\begin{pmatrix}\n",
    "  7 & 2 & 5 & 1 \\\\\n",
    "3 & 6 & 0 & 2 \\\\\n",
    "\\end{pmatrix}$\n"
   ]
  },
  {
   "cell_type": "code",
   "execution_count": 12,
   "metadata": {
    "id": "o1Hj2crXfRe9"
   },
   "outputs": [
    {
     "name": "stdout",
     "output_type": "stream",
     "text": [
      "(2, 3)\n",
      "(3, 2)\n"
     ]
    }
   ],
   "source": [
    "A= np.array([[1,5,3],[2,4,7]])\n",
    "Abis = np.array([[1,2],[5,6],[3,7]])\n",
    "print(A.shape)\n",
    "print(Abis.shape)"
   ]
  },
  {
   "cell_type": "markdown",
   "metadata": {},
   "source": [
    "2. En observant ces deux matrices, on peut noter qu'il son inverse \"les ligne par les colonne\"\n",
    "3. Pour obtenir Abis comme résultat à partir de A, on effectue la transposition de la matrice A\n",
    "4. la fonction Python numpy.transpose() ou l'attribut .T, est utiliser pour effectuer la transposition d'une matrice\n"
   ]
  },
  {
   "cell_type": "code",
   "execution_count": 13,
   "metadata": {},
   "outputs": [
    {
     "name": "stdout",
     "output_type": "stream",
     "text": [
      "[[1 5 3]\n",
      " [2 4 7]]\n",
      "[[1 2]\n",
      " [5 4]\n",
      " [3 7]]\n"
     ]
    }
   ],
   "source": [
    "A_bis = A.T\n",
    "\n",
    "print(A)\n",
    "print(A_bis)"
   ]
  },
  {
   "cell_type": "code",
   "execution_count": 14,
   "metadata": {},
   "outputs": [
    {
     "name": "stdout",
     "output_type": "stream",
     "text": [
      "(3, 1)\n",
      "(1, 3)\n",
      "(3,)\n",
      "(3,)\n",
      "(3, 3)\n",
      "(3, 3)\n",
      "(2, 4)\n",
      "(4, 2)\n"
     ]
    }
   ],
   "source": [
    "V1=np.array([[7],[4],[1]])\n",
    "T_V1 = V1.T\n",
    "print(V1.shape)\n",
    "print(T_V1.shape)\n",
    "\n",
    "V2=np.array([9,0,3])\n",
    "T_V2= V2.T\n",
    "print(V2.shape)\n",
    "print(T_V2.shape)\n",
    "\n",
    "M1=np.array([[2,4,1],[0,5,2,],[3,1,6]])\n",
    "T_M1 = M1.T\n",
    "print(M1.shape)\n",
    "print(T_M1.shape)\n",
    "\n",
    "M2=np.array([[7,2,5,1],[3,6,0,2]])\n",
    "T_M2= M2.T\n",
    "print(M2.shape)\n",
    "print(T_M2.shape)"
   ]
  },
  {
   "cell_type": "markdown",
   "metadata": {
    "id": "DNws-5WUo2Ab"
   },
   "source": [
    "------------------------------------------"
   ]
  },
  {
   "cell_type": "markdown",
   "metadata": {
    "id": "Il-yWHePVIqI"
   },
   "source": [
    "## **Job 5**\n",
    "On considère la matrice $A$ de dimension 3 $\\times 4$ définie comme :\n",
    "\n",
    "$$ A = \\begin{pmatrix}\n",
    "4 & 6 & -2 & 3 \\\\\n",
    "2 & -1 & 0 & 1 \\\\\n",
    "-7 & 0 & 1 & 12\n",
    "\\end{pmatrix} $$\n",
    "\n",
    "1. Créez la matrice $A$.\n",
    "\n",
    "2. Modifiez la matrice $A$ pour que ses deux premières lignes soient multipliées par 2 et que sa dernière colonne soit divisée par 3.\n",
    "\n",
    "3. Créez une nouvelle matrice $B$ définie comme :\n",
    "\n",
    "$$ B = \\begin{pmatrix}\n",
    "4 & 5 & 6 \\\\\n",
    "5 & 10 & 15 \\\\\n",
    "1 & 1 & 1\n",
    "\\end{pmatrix}  $$\n",
    "\n",
    "4. Réalisez le produit matriciel de $B$ et $A$, notez le $D$."
   ]
  },
  {
   "cell_type": "code",
   "execution_count": 15,
   "metadata": {
    "id": "u7qHn_eXj4QD"
   },
   "outputs": [
    {
     "data": {
      "text/plain": [
       "dtype('int32')"
      ]
     },
     "execution_count": 15,
     "metadata": {},
     "output_type": "execute_result"
    }
   ],
   "source": [
    "A=np.array([[4,6,-2,3],[2,-1,0,1],[-7,0,1,12]])\n",
    "A.dtype"
   ]
  },
  {
   "cell_type": "code",
   "execution_count": 16,
   "metadata": {},
   "outputs": [
    {
     "name": "stdout",
     "output_type": "stream",
     "text": [
      "float64\n",
      "[[ 8.         12.         -4.          2.        ]\n",
      " [ 4.         -2.          0.          0.66666667]\n",
      " [-7.          0.          1.          4.        ]]\n"
     ]
    }
   ],
   "source": [
    "# Modifiez A (multipliez les deux premières lignes par 2 et divisez la dernière colonne par 3)\n",
    "A = A.astype(float)  # Changez le type de données des éléments en float64 pour qu'en peut diviser par 3\n",
    "print(A.dtype)\n",
    "A[:2, :] = A[:2, :]*2\n",
    "A[:, -1] =A[:, -1]/ 3\n",
    "print(A)"
   ]
  },
  {
   "cell_type": "code",
   "execution_count": 17,
   "metadata": {},
   "outputs": [
    {
     "data": {
      "text/plain": [
       "array([[ 10.        ,  38.        , -10.        ,  35.33333333],\n",
       "       [-25.        ,  40.        ,  -5.        ,  76.66666667],\n",
       "       [  5.        ,  10.        ,  -3.        ,   6.66666667]])"
      ]
     },
     "execution_count": 17,
     "metadata": {},
     "output_type": "execute_result"
    }
   ],
   "source": [
    "B=np.array([[4,5,6],[5,10,15],[1,1,1]])\n",
    "# Réalisez le produit matriciel de B et A (D)\n",
    "D = np.dot(B, A)\n",
    "D"
   ]
  },
  {
   "cell_type": "code",
   "execution_count": 18,
   "metadata": {},
   "outputs": [
    {
     "data": {
      "text/plain": [
       "dtype('int32')"
      ]
     },
     "execution_count": 18,
     "metadata": {},
     "output_type": "execute_result"
    }
   ],
   "source": [
    "B.dtype"
   ]
  },
  {
   "cell_type": "markdown",
   "metadata": {
    "id": "pUe2Q9LJg8-e"
   },
   "source": [
    "---------------------------------------------------------"
   ]
  },
  {
   "cell_type": "markdown",
   "metadata": {
    "id": "fy9H6rsutmov"
   },
   "source": [
    "## **Job 6**\n",
    "\n",
    "Soit la matrice $I_3$ définie comme suit :\n",
    "$$ \\begin{pmatrix}\n",
    "1 & 0 & 0 \\\\\n",
    "0 & 1 & 0 \\\\\n",
    "0 & 0 & 1\n",
    "\\end{pmatrix}$$\n",
    "\n",
    "1. Faites une multiplication matricielle de $I_3$ et d'une autre matrice de même taille de votre choix. Qu'est ce que vous observez ?\n",
    "2. Renseignez-vous sur la matrice $I_3$. Quelles sont ses caractéristiques ?"
   ]
  },
  {
   "cell_type": "code",
   "execution_count": 19,
   "metadata": {
    "id": "SIVfVrphw6mD"
   },
   "outputs": [
    {
     "name": "stdout",
     "output_type": "stream",
     "text": [
      "[[1 0 0]\n",
      " [0 1 0]\n",
      " [0 0 1]]\n",
      "[[1 2 3]\n",
      " [4 5 6]\n",
      " [7 8 9]]\n",
      "[[1 2 3]\n",
      " [4 5 6]\n",
      " [7 8 9]]\n"
     ]
    }
   ],
   "source": [
    "I3 = np.array([[1,0,0],[0,1,0], [0,0,1]])\n",
    "# Créez une autre matrice A de même taille (3x3)\n",
    "A = np.array([[1, 2, 3], [4, 5, 6], [7, 8, 9]])\n",
    "\n",
    "# Effectuez la multiplication matricielle de I3 et A\n",
    "B= np.dot(I3, A)\n",
    "\n",
    "print(I3)\n",
    "print(A)\n",
    "print(B)\n"
   ]
  },
  {
   "cell_type": "markdown",
   "metadata": {
    "id": "D1RXE9cXx3LD"
   },
   "source": [
    "1. en observe que la matrice A na pas changer après la multiplication\n",
    "2. La caractéristique principale de la matrice identité I3 est qu'elle agit comme l'élément neutre pour la multiplication matricielle. Cela signifie que lorsque vous multipliez la matrice identité I3 par une autre matrice de même taille, le résultat est la matrice d'origine.\n",
    "### I3 * 𝐴 = 𝐴 "
   ]
  },
  {
   "cell_type": "markdown",
   "metadata": {},
   "source": [
    "--------------------------------------------------------------\n"
   ]
  },
  {
   "cell_type": "markdown",
   "metadata": {
    "id": "2AB67_wztCQT"
   },
   "source": [
    "## **Job 7**\n",
    "\n",
    "Pour un nombre réel $x$, son inverse, noté $\\frac{1}{x}$ ou $x^{-1}$, est un autre nombre tel que $x \\times \\frac{1}{x} = 1$\n",
    "\n",
    " En d'autres termes, lorsque vous multipliez un nombre par son inverse, le résultat est toujours $1$.\n",
    "\n",
    " Démontrez le dans la cellule ci-dessous pour des nombres de votre choix."
   ]
  },
  {
   "cell_type": "code",
   "execution_count": 20,
   "metadata": {
    "id": "AOV7zzmzx4_o"
   },
   "outputs": [
    {
     "data": {
      "text/plain": [
       "1.0"
      ]
     },
     "execution_count": 20,
     "metadata": {},
     "output_type": "execute_result"
    }
   ],
   "source": [
    "mult= 5*(1/5)\n",
    "mult"
   ]
  },
  {
   "cell_type": "markdown",
   "metadata": {
    "id": "u-S8sAZPx5Lz"
   },
   "source": [
    "-----------------------------------------------------------------"
   ]
  },
  {
   "cell_type": "markdown",
   "metadata": {
    "id": "RgYKdF1J6fXn"
   },
   "source": [
    "## **Job 8**\n",
    "\n",
    "L'inverse d'une matrice est une autre matrice qui, lorsqu'elle est multipliée par la matrice d'origine, donne une matrice identité. En d'autres termes, si $A$ est une matrice et $A^{-1}$ est son inverse, alors $A \\times A^{-1} = I$.\n",
    "\n",
    "*(C'est comme si l'inverse de la matrice \"compensait\" les effets de la matrice d'origine, de la même manière que l'inverse d'un nombre \"compense\" sa multiplication initiale pour obtenir $1$.)*\n",
    "\n",
    "Soient deux matrices $A$ et $B$ telles que :\n",
    "\n",
    "$$ A = \\begin{pmatrix}\n",
    "1 & 2 \\\\\n",
    "3 & 4\n",
    "\\end{pmatrix}, \\space B = \\begin{pmatrix}\n",
    "-2 & 1 \\\\\n",
    "1.5 & -0.5\n",
    "\\end{pmatrix}$$\n",
    "\n",
    "1. Calculez $A \\times B$ puis $B \\times A$.\n",
    "2. Que pouvez-vous conclure sur les deux matrices ?"
   ]
  },
  {
   "cell_type": "code",
   "execution_count": 21,
   "metadata": {
    "id": "DYkYvgfr6iBH"
   },
   "outputs": [
    {
     "name": "stdout",
     "output_type": "stream",
     "text": [
      "[[1. 0.]\n",
      " [0. 1.]]\n",
      "[[1. 0.]\n",
      " [0. 1.]]\n"
     ]
    }
   ],
   "source": [
    "A = np.array([[1, 2], [3, 4]])\n",
    "B = np.array([[-2, 1], [1.5, -0.5]])\n",
    "\n",
    "AB = np.dot(A, B)\n",
    "BA = np.dot(B, A)\n",
    "\n",
    "print(AB)\n",
    "print(BA)\n"
   ]
  },
  {
   "cell_type": "markdown",
   "metadata": {},
   "source": [
    "1. Le produit matriciel de AB et BA donne la matrice identité I2 (2x2)\n",
    "2. Les deux matrices A et B sont inverses l'une de l'autre"
   ]
  },
  {
   "cell_type": "markdown",
   "metadata": {
    "id": "rLtfdXh76iTd"
   },
   "source": [
    "----------------------------------------------------------------------"
   ]
  },
  {
   "cell_type": "markdown",
   "metadata": {
    "id": "rfRPzGs-3MG2"
   },
   "source": [
    "## **Job 9**\n",
    "\n",
    "On dit qu'une matrice carrée $M$ est inversible (ou possède un inverse $M^{-1}$) si son déterminant $det(M)\\neq 0$.\n",
    "\n",
    "**Par exemple :**\n",
    "\n",
    "$$ M = \\begin{pmatrix}\n",
    "a & b \\\\\n",
    "c & d\n",
    "\\end{pmatrix}, \\space det(M) = (a \\times d) - (c \\times b) \\neq 0$$\n",
    "\n",
    "On définit alors $M^{-1}$ comme suit :\n",
    "\n",
    "$$ M^{-1} = \\frac{1}{det(M)} \\times \\begin{pmatrix}\n",
    "d & -b \\\\\n",
    "-c & a\n",
    "\\end{pmatrix} $$\n",
    "\n",
    "\\\n",
    "\n",
    "1. Vérifiez si les matrices carrées ci-dessous sont inversibles (il existe une fonction de numpy qui le fait très bien...) :\n",
    "\n",
    "  * $ \\begin{pmatrix}\n",
    "5 & 6 \\\\\n",
    "7 & 8\n",
    "\\end{pmatrix}$\n",
    "\n",
    "  * $ \\begin{pmatrix}\n",
    "3 & 2 \\\\\n",
    "4 & 1\n",
    "\\end{pmatrix}$\n",
    "\n",
    "  * $ \\begin{pmatrix}\n",
    "1 & 5 \\\\\n",
    "7 & 8 \\\\\n",
    "0 & 1\n",
    "\\end{pmatrix}$\n",
    "\n",
    "  * $ \\begin{pmatrix}\n",
    "1 & 2 & 3 \\\\\n",
    "0 & -1 & 4 \\\\\n",
    "2 & 1 & 5\n",
    "\\end{pmatrix}$\n",
    "\n",
    "\n",
    "2. Calculez l'inverse de ces matrices à l'aide de la formule donnée précédemment."
   ]
  },
  {
   "cell_type": "code",
   "execution_count": 22,
   "metadata": {
    "id": "EqS8e-z13Lf9"
   },
   "outputs": [
    {
     "name": "stdout",
     "output_type": "stream",
     "text": [
      "(2, 2)\n",
      "(2, 2)\n",
      "(3, 2)\n",
      "(3, 3)\n"
     ]
    }
   ],
   "source": [
    "M1=np.array([[5,6],[7,8]])\n",
    "M2=np.array([[3,2],[4,1]])\n",
    "M3=np.array([[1,5],[7,8],[0,1]])\n",
    "M4=np.array([[1,2,3],[0,-1,4],[2,1,5]])\n",
    "\n",
    "#Vérifiez si les matrices sont carrées\n",
    "print(M1.shape)\n",
    "print(M2.shape)\n",
    "print(M3.shape)\n",
    "print(M4.shape)\n"
   ]
  },
  {
   "cell_type": "markdown",
   "metadata": {},
   "source": [
    "- La matrice 3 n'est pas carrée car le nombre de ses lignes n'est pas égal au nombre de ses colonnes."
   ]
  },
  {
   "cell_type": "code",
   "execution_count": 23,
   "metadata": {},
   "outputs": [
    {
     "name": "stdout",
     "output_type": "stream",
     "text": [
      "-1.999999999999999 -4.999999999999999 12.999999999999995\n"
     ]
    }
   ],
   "source": [
    "#Vérifiez si les matrices sont inversibles en calculant leur déterminant avec la fonction np.linalg.det()\n",
    "det_M1=np.linalg.det(M1)\n",
    "det_M2 = np.linalg.det(M2)\n",
    "det_M4 = np.linalg.det(M4)\n",
    "# calcule l'inverse de la matrice M1 = np.linalg.det(M4)\n",
    "print(det_M1, det_M2, det_M4)"
   ]
  },
  {
   "cell_type": "markdown",
   "metadata": {},
   "source": [
    "- Le déterminant des trois matrices n'est pas égal à zéro, et elles sont carrées, donc nous pouvons calculer leur inverse."
   ]
  },
  {
   "cell_type": "markdown",
   "metadata": {},
   "source": [
    "#### calculez l'inverse des martix 2X2\n",
    "Si A = $ \\begin{pmatrix}\n",
    "          a & b \\\\\n",
    "          c & d\n",
    "          \\end{pmatrix}$\n",
    ", alors l'inverse de A est donné par :\n",
    "\n",
    "A^(-1) = (1/det) * adj(A)\n",
    "\n",
    "A^(-1) = (1/det) * $ \\begin{pmatrix}\n",
    "                   d & -b \\\\\n",
    "                   -c & a\n",
    "                   \\end{pmatrix}$"
   ]
  },
  {
   "cell_type": "code",
   "execution_count": 24,
   "metadata": {},
   "outputs": [
    {
     "data": {
      "text/plain": [
       "array([[ 8, -6],\n",
       "       [-7,  5]])"
      ]
     },
     "execution_count": 24,
     "metadata": {},
     "output_type": "execute_result"
    }
   ],
   "source": [
    "adjM1 = np.array([[M1[1, 1], -M1[0, 1]], [-M1[1, 0], M1[0, 0]]])\n",
    "adjM1"
   ]
  },
  {
   "cell_type": "code",
   "execution_count": 25,
   "metadata": {},
   "outputs": [
    {
     "data": {
      "text/plain": [
       "array([[-4. ,  3. ],\n",
       "       [ 3.5, -2.5]])"
      ]
     },
     "execution_count": 25,
     "metadata": {},
     "output_type": "execute_result"
    }
   ],
   "source": [
    "# calcule l'inverse de la matrice M1\n",
    "invM1 = (1/det_M1)*adjM1\n",
    "invM1"
   ]
  },
  {
   "cell_type": "code",
   "execution_count": 26,
   "metadata": {},
   "outputs": [
    {
     "data": {
      "text/plain": [
       "array([[ 1, -2],\n",
       "       [-4,  3]])"
      ]
     },
     "execution_count": 26,
     "metadata": {},
     "output_type": "execute_result"
    }
   ],
   "source": [
    "adjM2 = np.array([[M2[1, 1], -M2[0, 1]], [-M2[1, 0], M2[0, 0]]])\n",
    "adjM2"
   ]
  },
  {
   "cell_type": "code",
   "execution_count": 27,
   "metadata": {},
   "outputs": [
    {
     "data": {
      "text/plain": [
       "array([[-0.2,  0.4],\n",
       "       [ 0.8, -0.6]])"
      ]
     },
     "execution_count": 27,
     "metadata": {},
     "output_type": "execute_result"
    }
   ],
   "source": [
    "# calcule l'inverse de la matrice M1\n",
    "invM2 = (1/det_M2)*adjM2\n",
    "invM2"
   ]
  },
  {
   "cell_type": "markdown",
   "metadata": {},
   "source": [
    "#### calculez l'inverse des martix 3X3\n",
    "Si A = $ \\begin{pmatrix}\n",
    "1 & 2 & 3 \\\\\n",
    "0 & -1 & 4 \\\\\n",
    "2 & 1 & 5\n",
    "\\end{pmatrix}$\n",
    "  , alors l'inverse de A est donné par \n",
    "  \n",
    "  A^(-1) = (1/det) * Comp(A)"
   ]
  },
  {
   "attachments": {
    "Screenshot%202023-11-07%20134345.png": {
     "image/png": "[encoded data removed]"
    }
   },
   "cell_type": "markdown",
   "metadata": {},
   "source": [
    "- comp(A) = C^T\n",
    "C est la comatrice, et comp est la Matrices complémentaires\n",
    "\n",
    "![Screenshot%202023-11-07%20134345.png](attachment:Screenshot%202023-11-07%20134345.png)\n",
    "\n",
    "en suite en multipliant les resultat par par 1 ou \n",
    "−1 dans ce ordre \n",
    "\n",
    "$ \\begin{pmatrix}\n",
    "+ & - & + \\\\\n",
    "- & + & - \\\\\n",
    "+ & - & +\n",
    "\\end{pmatrix}$\n"
   ]
  },
  {
   "cell_type": "code",
   "execution_count": 28,
   "metadata": {},
   "outputs": [],
   "source": [
    "C11 = np.linalg.det(M4[1:, 1:]) \n",
    "C12 = -np.linalg.det(M4[1:, [0, 2]])  \n",
    "C13 = np.linalg.det(M4[1:, :2])  \n",
    "C21 = -np.linalg.det(M4[[0, 2], 1:])  \n",
    "C22 = np.linalg.det(M4[::2,::2])  \n",
    "C23 = -np.linalg.det(M4[[0, 2], :2])  \n",
    "C31 = np.linalg.det(M4[:2, 1:])  \n",
    "C32 = -np.linalg.det(M4[:2, [0, 2]])  \n",
    "C33 = np.linalg.det(M4[:2, :2]) "
   ]
  },
  {
   "cell_type": "code",
   "execution_count": 29,
   "metadata": {},
   "outputs": [
    {
     "data": {
      "text/plain": [
       "array([[-9.,  8.,  2.],\n",
       "       [-7., -1.,  3.],\n",
       "       [11., -4., -1.]])"
      ]
     },
     "execution_count": 29,
     "metadata": {},
     "output_type": "execute_result"
    }
   ],
   "source": [
    "C = np.array([[C11, C12, C13], [C21, C22, C23], [C31, C32, C33]])\n",
    "C"
   ]
  },
  {
   "cell_type": "code",
   "execution_count": 30,
   "metadata": {},
   "outputs": [
    {
     "data": {
      "text/plain": [
       "array([[-9., -7., 11.],\n",
       "       [ 8., -1., -4.],\n",
       "       [ 2.,  3., -1.]])"
      ]
     },
     "execution_count": 30,
     "metadata": {},
     "output_type": "execute_result"
    }
   ],
   "source": [
    "# la transposée de la comactice C\n",
    "CompA = C.T\n",
    "CompA "
   ]
  },
  {
   "cell_type": "code",
   "execution_count": 31,
   "metadata": {},
   "outputs": [
    {
     "data": {
      "text/plain": [
       "array([[-0.69230769, -0.53846154,  0.84615385],\n",
       "       [ 0.61538462, -0.07692308, -0.30769231],\n",
       "       [ 0.15384615,  0.23076923, -0.07692308]])"
      ]
     },
     "execution_count": 31,
     "metadata": {},
     "output_type": "execute_result"
    }
   ],
   "source": [
    "# calcule l'inverse de la matrice M4\n",
    "\n",
    "invM4 = (1/det_M4)*CompA\n",
    "invM4"
   ]
  },
  {
   "cell_type": "code",
   "execution_count": 32,
   "metadata": {},
   "outputs": [
    {
     "data": {
      "text/plain": [
       "array([[-0.69230769, -0.53846154,  0.84615385],\n",
       "       [ 0.61538462, -0.07692308, -0.30769231],\n",
       "       [ 0.15384615,  0.23076923, -0.07692308]])"
      ]
     },
     "execution_count": 32,
     "metadata": {},
     "output_type": "execute_result"
    }
   ],
   "source": [
    "# la fonction linalg.inv() de numpy pour vérifier nous calculer\n",
    "np.linalg.inv(M4)"
   ]
  },
  {
   "cell_type": "markdown",
   "metadata": {
    "id": "Gx-D1gOvx9q7"
   },
   "source": [
    "-----------------------------------------------------------------"
   ]
  },
  {
   "cell_type": "markdown",
   "metadata": {
    "id": "CQtesnAQhBWC"
   },
   "source": [
    "# Probabilités et Statistique"
   ]
  },
  {
   "cell_type": "markdown",
   "metadata": {
    "id": "ln_exBJbqReD"
   },
   "source": [
    "## **Job 10**\n",
    "**La probabilité d'un événement est un nombre réel compris entre 0 et 1. Plus ce nombre est grand, plus le risque, ou la chance, que l'événement se produise est grand.**\n",
    "\n",
    "Lancez une pièce de monnaie 100 fois et enregistrez le résultat, pile ou face, dans un `array` $T$.\n",
    "1. Quelle est donc la probabilité d'obtenir le résultat Pile ou le résultat Face ?\n",
    "3. Visualisez la proportion des résultats à l'aide d'un piechart de `Matplotlib` (ou d'une autre librairie de votre choix).\n"
   ]
  },
  {
   "cell_type": "code",
   "execution_count": 33,
   "metadata": {},
   "outputs": [
    {
     "data": {
      "text/plain": [
       "array([0, 1, 0, 1, 1, 1, 1, 0, 0, 1, 1, 1, 0, 1, 1, 1, 1, 1, 1, 0, 1, 0,\n",
       "       1, 0, 0, 1, 1, 0, 0, 1, 0, 0, 1, 1, 1, 1, 1, 1, 0, 0, 1, 1, 0, 0,\n",
       "       0, 1, 1, 0, 1, 0, 1, 0, 1, 1, 0, 1, 0, 0, 0, 0, 0, 1, 0, 0, 1, 0,\n",
       "       1, 1, 1, 0, 0, 1, 1, 0, 1, 1, 0, 0, 1, 1, 0, 1, 0, 1, 1, 1, 0, 1,\n",
       "       0, 1, 0, 1, 0, 1, 0, 0, 1, 1, 0, 1])"
      ]
     },
     "execution_count": 33,
     "metadata": {},
     "output_type": "execute_result"
    }
   ],
   "source": [
    "# Simuler le lancer de pièce 100 fois (0 pour Pile, 1 pour Face)\n",
    "lancers = np.random.randint(0, 2, 100)\n",
    "lancers"
   ]
  },
  {
   "cell_type": "code",
   "execution_count": 34,
   "metadata": {},
   "outputs": [
    {
     "name": "stdout",
     "output_type": "stream",
     "text": [
      "44 56\n"
     ]
    }
   ],
   "source": [
    "# Compter le nombre de Piles (0) et de Faces (1)\n",
    "num_p = np.sum(lancers == 0)\n",
    "num_f = np.sum(lancers == 1)\n",
    "print(num_p, num_f)"
   ]
  },
  {
   "cell_type": "code",
   "execution_count": 35,
   "metadata": {},
   "outputs": [
    {
     "name": "stdout",
     "output_type": "stream",
     "text": [
      "0.44 0.56\n"
     ]
    }
   ],
   "source": [
    "# Calculer les probabilités\n",
    "p_p = num_p / 100\n",
    "p_f = num_f / 100\n",
    "print(p_p,p_f)"
   ]
  },
  {
   "cell_type": "code",
   "execution_count": 36,
   "metadata": {},
   "outputs": [
    {
     "data": {
      "image/png": "[encoded data removed]",
      "text/plain": [
       "<Figure size 640x480 with 1 Axes>"
      ]
     },
     "metadata": {},
     "output_type": "display_data"
    }
   ],
   "source": [
    "# Créer un pie chart\n",
    "labels = 'Pile', 'Face'\n",
    "values = [p_p, p_f]\n",
    "plt.pie(values, labels=labels, autopct='%.2f%%')\n",
    "plt.show()"
   ]
  },
  {
   "cell_type": "markdown",
   "metadata": {
    "id": "MxiFruoxmYug"
   },
   "source": [
    "## **Job 11**\n",
    "\n",
    "Considérez un dé $D_6$ dont les valeurs possibles sont : $\\{1, 2, 3, 4, 5, 6\\}$.\n",
    "\n",
    "Ce dé est non truqué, ce qui signifie que toutes les valeurs ont des probabilités égales de se produire.  \n",
    "\n",
    "Si je jette le dé $D_6$, la probabilité que le résultat soit $3$ est de $\\frac{1}{6}$.\n",
    "\n",
    "1. Quelle est la probabilité d'obtenir $7$ au jet du dé $D_6$ ?\n",
    "2. Quelle est la probabilité d'obtenir un résultat pair ?\n",
    "3. Quelle est la probabilité d'obtenir un résultat impair ?\n",
    "4. Quelle est la probabilité d'obtenir un résultat inférieur ou égal à $4$ ?\n",
    "5. Quelle est la probabilité d'obtenir un résultat inférieur ou égal à $6$ ?\n",
    "6. Quelle est la probabilité de ne pas obtenir $1$ ?"
   ]
  },
  {
   "cell_type": "code",
   "execution_count": 37,
   "metadata": {},
   "outputs": [
    {
     "name": "stdout",
     "output_type": "stream",
     "text": [
      "0.5\n",
      "0.5\n",
      "0.6666666666666666\n",
      "1.0\n",
      "0.8333333333333333\n"
     ]
    }
   ],
   "source": [
    "P1= 1/6; P2=1/6;P3=1/6;P4=1/6;P5=1/6;P6=1/6\n",
    "p_pair = P2+P4+P6\n",
    "print(p_pair)\n",
    "p_impair = P1+P3+P5\n",
    "print(p_impair)\n",
    "p_inf4 = P1+P2+P3+P4\n",
    "print(p_inf4)\n",
    "p_inf6 = p_pair + p_impair\n",
    "print(p_inf6)\n",
    "P_no1 = P2+P3+P4+P5+P6\n",
    "print(P_no1)"
   ]
  },
  {
   "cell_type": "markdown",
   "metadata": {
    "id": "Nbpx1FibWrBs"
   },
   "source": [
    "* P(7) = 0 car les valeurs possibles du dé vont de 1 à 6\n",
    "* la probabilité d'obtenir un résultat pair est de 0.5\n",
    "* la probabilité d'obtenir un résultat impair est 0.5\n",
    "* la probabilité d'obtenir un résultat inférieur ou égal à4 est 0.66\n",
    "* la probabilité d'obtenir un résultat inférieur ou égal à6 est 1\n",
    "* La probabilité de ne pas obtenir un 1 est la probabilité d'obtenir n'importe quelle autre valeur que 1. donc la probabilité est 0.833"
   ]
  },
  {
   "cell_type": "markdown",
   "metadata": {
    "id": "WSdMr0IBWthA"
   },
   "source": [
    "-------------------------------------------------------------"
   ]
  },
  {
   "cell_type": "markdown",
   "metadata": {
    "id": "uttOswY_g-gC"
   },
   "source": [
    "## **Job 12**\n",
    "A l'aide de `numpy` et de ses différentes fonctions :\n",
    "* Créez un vecteur ligne $R$ de taille $n=450$ composé de nombres naturels entre $0$ et $9$ générés aléatoirement\n",
    "* Calculez la valeur moyenne du tableau\n",
    "* Calculez la valeur médiane\n",
    "* Calculez la variance\n",
    "* Calculez l'écart-type"
   ]
  },
  {
   "cell_type": "code",
   "execution_count": 38,
   "metadata": {
    "id": "q4WwtEoHj5ZV"
   },
   "outputs": [
    {
     "data": {
      "text/plain": [
       "array([5, 3, 2, 5, 3, 9, 6, 0, 8, 0, 1, 6, 4, 4, 9, 2, 1, 3, 5, 6, 5, 9,\n",
       "       1, 5, 8, 9, 6, 5, 2, 7, 6, 5, 8, 6, 7, 2, 0, 5, 3, 6, 3, 8, 5, 3,\n",
       "       7, 2, 5, 6, 0, 7, 8, 3, 8, 5, 7, 2, 3, 1, 5, 2, 6, 2, 8, 9, 8, 2,\n",
       "       0, 5, 4, 7, 5, 8, 4, 2, 4, 6, 7, 2, 6, 8, 1, 5, 2, 4, 8, 0, 1, 9,\n",
       "       0, 4, 0, 5, 0, 4, 7, 7, 4, 6, 6, 4, 1, 7, 5, 2, 2, 4, 6, 9, 5, 0,\n",
       "       9, 9, 7, 7, 5, 3, 0, 9, 7, 9, 1, 5, 1, 4, 0, 0, 9, 9, 5, 0, 1, 2,\n",
       "       7, 1, 9, 6, 0, 4, 5, 1, 6, 6, 1, 7, 7, 4, 2, 9, 5, 4, 2, 4, 9, 8,\n",
       "       5, 1, 4, 7, 8, 1, 3, 0, 4, 9, 5, 5, 9, 1, 8, 7, 3, 9, 8, 0, 4, 9,\n",
       "       8, 5, 2, 2, 8, 1, 6, 5, 9, 7, 1, 6, 4, 4, 7, 0, 4, 9, 9, 5, 6, 9,\n",
       "       2, 2, 0, 1, 9, 7, 1, 0, 5, 8, 6, 8, 1, 4, 6, 6, 9, 3, 2, 3, 3, 3,\n",
       "       2, 4, 4, 3, 5, 1, 5, 1, 0, 5, 7, 1, 2, 2, 4, 8, 8, 8, 0, 9, 5, 0,\n",
       "       0, 3, 9, 8, 4, 8, 0, 4, 5, 3, 5, 9, 1, 8, 7, 3, 0, 4, 1, 8, 8, 5,\n",
       "       8, 3, 3, 8, 2, 4, 4, 4, 4, 6, 7, 9, 9, 2, 5, 8, 0, 5, 6, 7, 6, 4,\n",
       "       3, 4, 4, 9, 0, 3, 0, 7, 7, 3, 1, 5, 1, 9, 3, 3, 5, 6, 7, 3, 1, 7,\n",
       "       8, 0, 9, 6, 6, 5, 7, 3, 5, 1, 6, 3, 2, 5, 9, 8, 6, 9, 6, 8, 3, 5,\n",
       "       9, 9, 9, 8, 1, 8, 0, 0, 1, 5, 7, 0, 5, 1, 3, 9, 9, 6, 0, 0, 3, 2,\n",
       "       5, 5, 9, 2, 9, 6, 5, 4, 6, 1, 3, 4, 1, 3, 2, 1, 3, 7, 0, 7, 0, 8,\n",
       "       8, 7, 4, 3, 1, 0, 3, 6, 2, 0, 6, 4, 8, 2, 4, 5, 1, 7, 2, 8, 2, 6,\n",
       "       8, 3, 4, 2, 1, 7, 3, 7, 6, 7, 6, 1, 0, 0, 5, 2, 2, 5, 8, 5, 3, 9,\n",
       "       7, 1, 6, 9, 7, 8, 1, 4, 9, 3, 3, 9, 8, 2, 1, 7, 4, 5, 2, 2, 4, 5,\n",
       "       9, 5, 8, 0, 1, 3, 9, 0, 5, 2])"
      ]
     },
     "execution_count": 38,
     "metadata": {},
     "output_type": "execute_result"
    }
   ],
   "source": [
    "R = np.random.randint(0, 10, 450)\n",
    "R"
   ]
  },
  {
   "cell_type": "code",
   "execution_count": 39,
   "metadata": {},
   "outputs": [
    {
     "name": "stdout",
     "output_type": "stream",
     "text": [
      "Moyenne: 4.562222222222222\n",
      "Médiane: 5.0\n",
      "Variance: 8.161683950617284\n",
      "Écart-type: 2.856866106526045\n"
     ]
    }
   ],
   "source": [
    "moyenne_R = np.mean(R)\n",
    "mediane_R = np.median(R)\n",
    "variance_R = np.var(R)\n",
    "ecart_type_R = np.std(R)\n",
    "\n",
    "print(\"Moyenne:\", moyenne_R)\n",
    "print(\"Médiane:\", mediane_R)\n",
    "print(\"Variance:\", variance_R)\n",
    "print(\"Écart-type:\", ecart_type_R)"
   ]
  },
  {
   "cell_type": "markdown",
   "metadata": {
    "id": "Aw0gaIdZazFa"
   },
   "source": [
    "----------------------------------------------"
   ]
  },
  {
   "cell_type": "markdown",
   "metadata": {
    "id": "KqxEDbkKkP4t"
   },
   "source": [
    "## **Job 13**\n",
    "A l'aide de matplotlib (ou d'une autre librairie de votre choix), visualisez la distribution des données du tableau $R$ en générant un histogramme."
   ]
  },
  {
   "cell_type": "code",
   "execution_count": 40,
   "metadata": {
    "id": "8sWEFtOskmmg"
   },
   "outputs": [
    {
     "data": {
      "application/vnd.plotly.v1+json": {
       "config": {
        "plotlyServerURL": "https://plot.ly"
       },
       "data": [
        {
         "alignmentgroup": "True",
         "bingroup": "x",
         "hovertemplate": "variable=0<br>value=%{x}<br>count=%{y}<extra></extra>",
         "legendgroup": "0",
         "marker": {
          "color": "#636efa",
          "pattern": {
           "shape": ""
          }
         },
         "name": "0",
         "nbinsx": 10,
         "offsetgroup": "0",
         "orientation": "v",
         "showlegend": true,
         "type": "histogram",
         "x": [
          5,
          3,
          2,
          5,
          3,
          9,
          6,
          0,
          8,
          0,
          1,
          6,
          4,
          4,
          9,
          2,
          1,
          3,
          5,
          6,
          5,
          9,
          1,
          5,
          8,
          9,
          6,
          5,
          2,
          7,
          6,
          5,
          8,
          6,
          7,
          2,
          0,
          5,
          3,
          6,
          3,
          8,
          5,
          3,
          7,
          2,
          5,
          6,
          0,
          7,
          8,
          3,
          8,
          5,
          7,
          2,
          3,
          1,
          5,
          2,
          6,
          2,
          8,
          9,
          8,
          2,
          0,
          5,
          4,
          7,
          5,
          8,
          4,
          2,
          4,
          6,
          7,
          2,
          6,
          8,
          1,
          5,
          2,
          4,
          8,
          0,
          1,
          9,
          0,
          4,
          0,
          5,
          0,
          4,
          7,
          7,
          4,
          6,
          6,
          4,
          1,
          7,
          5,
          2,
          2,
          4,
          6,
          9,
          5,
          0,
          9,
          9,
          7,
          7,
          5,
          3,
          0,
          9,
          7,
          9,
          1,
          5,
          1,
          4,
          0,
          0,
          9,
          9,
          5,
          0,
          1,
          2,
          7,
          1,
          9,
          6,
          0,
          4,
          5,
          1,
          6,
          6,
          1,
          7,
          7,
          4,
          2,
          9,
          5,
          4,
          2,
          4,
          9,
          8,
          5,
          1,
          4,
          7,
          8,
          1,
          3,
          0,
          4,
          9,
          5,
          5,
          9,
          1,
          8,
          7,
          3,
          9,
          8,
          0,
          4,
          9,
          8,
          5,
          2,
          2,
          8,
          1,
          6,
          5,
          9,
          7,
          1,
          6,
          4,
          4,
          7,
          0,
          4,
          9,
          9,
          5,
          6,
          9,
          2,
          2,
          0,
          1,
          9,
          7,
          1,
          0,
          5,
          8,
          6,
          8,
          1,
          4,
          6,
          6,
          9,
          3,
          2,
          3,
          3,
          3,
          2,
          4,
          4,
          3,
          5,
          1,
          5,
          1,
          0,
          5,
          7,
          1,
          2,
          2,
          4,
          8,
          8,
          8,
          0,
          9,
          5,
          0,
          0,
          3,
          9,
          8,
          4,
          8,
          0,
          4,
          5,
          3,
          5,
          9,
          1,
          8,
          7,
          3,
          0,
          4,
          1,
          8,
          8,
          5,
          8,
          3,
          3,
          8,
          2,
          4,
          4,
          4,
          4,
          6,
          7,
          9,
          9,
          2,
          5,
          8,
          0,
          5,
          6,
          7,
          6,
          4,
          3,
          4,
          4,
          9,
          0,
          3,
          0,
          7,
          7,
          3,
          1,
          5,
          1,
          9,
          3,
          3,
          5,
          6,
          7,
          3,
          1,
          7,
          8,
          0,
          9,
          6,
          6,
          5,
          7,
          3,
          5,
          1,
          6,
          3,
          2,
          5,
          9,
          8,
          6,
          9,
          6,
          8,
          3,
          5,
          9,
          9,
          9,
          8,
          1,
          8,
          0,
          0,
          1,
          5,
          7,
          0,
          5,
          1,
          3,
          9,
          9,
          6,
          0,
          0,
          3,
          2,
          5,
          5,
          9,
          2,
          9,
          6,
          5,
          4,
          6,
          1,
          3,
          4,
          1,
          3,
          2,
          1,
          3,
          7,
          0,
          7,
          0,
          8,
          8,
          7,
          4,
          3,
          1,
          0,
          3,
          6,
          2,
          0,
          6,
          4,
          8,
          2,
          4,
          5,
          1,
          7,
          2,
          8,
          2,
          6,
          8,
          3,
          4,
          2,
          1,
          7,
          3,
          7,
          6,
          7,
          6,
          1,
          0,
          0,
          5,
          2,
          2,
          5,
          8,
          5,
          3,
          9,
          7,
          1,
          6,
          9,
          7,
          8,
          1,
          4,
          9,
          3,
          3,
          9,
          8,
          2,
          1,
          7,
          4,
          5,
          2,
          2,
          4,
          5,
          9,
          5,
          8,
          0,
          1,
          3,
          9,
          0,
          5,
          2
         ],
         "xaxis": "x",
         "yaxis": "y"
        }
       ],
       "layout": {
        "barmode": "relative",
        "legend": {
         "title": {
          "text": "variable"
         },
         "tracegroupgap": 0
        },
        "margin": {
         "t": 60
        },
        "template": {
         "data": {
          "bar": [
           {
            "error_x": {
             "color": "#2a3f5f"
            },
            "error_y": {
             "color": "#2a3f5f"
            },
            "marker": {
             "line": {
              "color": "#E5ECF6",
              "width": 0.5
             },
             "pattern": {
              "fillmode": "overlay",
              "size": 10,
              "solidity": 0.2
             }
            },
            "type": "bar"
           }
          ],
          "barpolar": [
           {
            "marker": {
             "line": {
              "color": "#E5ECF6",
              "width": 0.5
             },
             "pattern": {
              "fillmode": "overlay",
              "size": 10,
              "solidity": 0.2
             }
            },
            "type": "barpolar"
           }
          ],
          "carpet": [
           {
            "aaxis": {
             "endlinecolor": "#2a3f5f",
             "gridcolor": "white",
             "linecolor": "white",
             "minorgridcolor": "white",
             "startlinecolor": "#2a3f5f"
            },
            "baxis": {
             "endlinecolor": "#2a3f5f",
             "gridcolor": "white",
             "linecolor": "white",
             "minorgridcolor": "white",
             "startlinecolor": "#2a3f5f"
            },
            "type": "carpet"
           }
          ],
          "choropleth": [
           {
            "colorbar": {
             "outlinewidth": 0,
             "ticks": ""
            },
            "type": "choropleth"
           }
          ],
          "contour": [
           {
            "colorbar": {
             "outlinewidth": 0,
             "ticks": ""
            },
            "colorscale": [
             [
              0,
              "#0d0887"
             ],
             [
              0.1111111111111111,
              "#46039f"
             ],
             [
              0.2222222222222222,
              "#7201a8"
             ],
             [
              0.3333333333333333,
              "#9c179e"
             ],
             [
              0.4444444444444444,
              "#bd3786"
             ],
             [
              0.5555555555555556,
              "#d8576b"
             ],
             [
              0.6666666666666666,
              "#ed7953"
             ],
             [
              0.7777777777777778,
              "#fb9f3a"
             ],
             [
              0.8888888888888888,
              "#fdca26"
             ],
             [
              1,
              "#f0f921"
             ]
            ],
            "type": "contour"
           }
          ],
          "contourcarpet": [
           {
            "colorbar": {
             "outlinewidth": 0,
             "ticks": ""
            },
            "type": "contourcarpet"
           }
          ],
          "heatmap": [
           {
            "colorbar": {
             "outlinewidth": 0,
             "ticks": ""
            },
            "colorscale": [
             [
              0,
              "#0d0887"
             ],
             [
              0.1111111111111111,
              "#46039f"
             ],
             [
              0.2222222222222222,
              "#7201a8"
             ],
             [
              0.3333333333333333,
              "#9c179e"
             ],
             [
              0.4444444444444444,
              "#bd3786"
             ],
             [
              0.5555555555555556,
              "#d8576b"
             ],
             [
              0.6666666666666666,
              "#ed7953"
             ],
             [
              0.7777777777777778,
              "#fb9f3a"
             ],
             [
              0.8888888888888888,
              "#fdca26"
             ],
             [
              1,
              "#f0f921"
             ]
            ],
            "type": "heatmap"
           }
          ],
          "heatmapgl": [
           {
            "colorbar": {
             "outlinewidth": 0,
             "ticks": ""
            },
            "colorscale": [
             [
              0,
              "#0d0887"
             ],
             [
              0.1111111111111111,
              "#46039f"
             ],
             [
              0.2222222222222222,
              "#7201a8"
             ],
             [
              0.3333333333333333,
              "#9c179e"
             ],
             [
              0.4444444444444444,
              "#bd3786"
             ],
             [
              0.5555555555555556,
              "#d8576b"
             ],
             [
              0.6666666666666666,
              "#ed7953"
             ],
             [
              0.7777777777777778,
              "#fb9f3a"
             ],
             [
              0.8888888888888888,
              "#fdca26"
             ],
             [
              1,
              "#f0f921"
             ]
            ],
            "type": "heatmapgl"
           }
          ],
          "histogram": [
           {
            "marker": {
             "pattern": {
              "fillmode": "overlay",
              "size": 10,
              "solidity": 0.2
             }
            },
            "type": "histogram"
           }
          ],
          "histogram2d": [
           {
            "colorbar": {
             "outlinewidth": 0,
             "ticks": ""
            },
            "colorscale": [
             [
              0,
              "#0d0887"
             ],
             [
              0.1111111111111111,
              "#46039f"
             ],
             [
              0.2222222222222222,
              "#7201a8"
             ],
             [
              0.3333333333333333,
              "#9c179e"
             ],
             [
              0.4444444444444444,
              "#bd3786"
             ],
             [
              0.5555555555555556,
              "#d8576b"
             ],
             [
              0.6666666666666666,
              "#ed7953"
             ],
             [
              0.7777777777777778,
              "#fb9f3a"
             ],
             [
              0.8888888888888888,
              "#fdca26"
             ],
             [
              1,
              "#f0f921"
             ]
            ],
            "type": "histogram2d"
           }
          ],
          "histogram2dcontour": [
           {
            "colorbar": {
             "outlinewidth": 0,
             "ticks": ""
            },
            "colorscale": [
             [
              0,
              "#0d0887"
             ],
             [
              0.1111111111111111,
              "#46039f"
             ],
             [
              0.2222222222222222,
              "#7201a8"
             ],
             [
              0.3333333333333333,
              "#9c179e"
             ],
             [
              0.4444444444444444,
              "#bd3786"
             ],
             [
              0.5555555555555556,
              "#d8576b"
             ],
             [
              0.6666666666666666,
              "#ed7953"
             ],
             [
              0.7777777777777778,
              "#fb9f3a"
             ],
             [
              0.8888888888888888,
              "#fdca26"
             ],
             [
              1,
              "#f0f921"
             ]
            ],
            "type": "histogram2dcontour"
           }
          ],
          "mesh3d": [
           {
            "colorbar": {
             "outlinewidth": 0,
             "ticks": ""
            },
            "type": "mesh3d"
           }
          ],
          "parcoords": [
           {
            "line": {
             "colorbar": {
              "outlinewidth": 0,
              "ticks": ""
             }
            },
            "type": "parcoords"
           }
          ],
          "pie": [
           {
            "automargin": true,
            "type": "pie"
           }
          ],
          "scatter": [
           {
            "fillpattern": {
             "fillmode": "overlay",
             "size": 10,
             "solidity": 0.2
            },
            "type": "scatter"
           }
          ],
          "scatter3d": [
           {
            "line": {
             "colorbar": {
              "outlinewidth": 0,
              "ticks": ""
             }
            },
            "marker": {
             "colorbar": {
              "outlinewidth": 0,
              "ticks": ""
             }
            },
            "type": "scatter3d"
           }
          ],
          "scattercarpet": [
           {
            "marker": {
             "colorbar": {
              "outlinewidth": 0,
              "ticks": ""
             }
            },
            "type": "scattercarpet"
           }
          ],
          "scattergeo": [
           {
            "marker": {
             "colorbar": {
              "outlinewidth": 0,
              "ticks": ""
             }
            },
            "type": "scattergeo"
           }
          ],
          "scattergl": [
           {
            "marker": {
             "colorbar": {
              "outlinewidth": 0,
              "ticks": ""
             }
            },
            "type": "scattergl"
           }
          ],
          "scattermapbox": [
           {
            "marker": {
             "colorbar": {
              "outlinewidth": 0,
              "ticks": ""
             }
            },
            "type": "scattermapbox"
           }
          ],
          "scatterpolar": [
           {
            "marker": {
             "colorbar": {
              "outlinewidth": 0,
              "ticks": ""
             }
            },
            "type": "scatterpolar"
           }
          ],
          "scatterpolargl": [
           {
            "marker": {
             "colorbar": {
              "outlinewidth": 0,
              "ticks": ""
             }
            },
            "type": "scatterpolargl"
           }
          ],
          "scatterternary": [
           {
            "marker": {
             "colorbar": {
              "outlinewidth": 0,
              "ticks": ""
             }
            },
            "type": "scatterternary"
           }
          ],
          "surface": [
           {
            "colorbar": {
             "outlinewidth": 0,
             "ticks": ""
            },
            "colorscale": [
             [
              0,
              "#0d0887"
             ],
             [
              0.1111111111111111,
              "#46039f"
             ],
             [
              0.2222222222222222,
              "#7201a8"
             ],
             [
              0.3333333333333333,
              "#9c179e"
             ],
             [
              0.4444444444444444,
              "#bd3786"
             ],
             [
              0.5555555555555556,
              "#d8576b"
             ],
             [
              0.6666666666666666,
              "#ed7953"
             ],
             [
              0.7777777777777778,
              "#fb9f3a"
             ],
             [
              0.8888888888888888,
              "#fdca26"
             ],
             [
              1,
              "#f0f921"
             ]
            ],
            "type": "surface"
           }
          ],
          "table": [
           {
            "cells": {
             "fill": {
              "color": "#EBF0F8"
             },
             "line": {
              "color": "white"
             }
            },
            "header": {
             "fill": {
              "color": "#C8D4E3"
             },
             "line": {
              "color": "white"
             }
            },
            "type": "table"
           }
          ]
         },
         "layout": {
          "annotationdefaults": {
           "arrowcolor": "#2a3f5f",
           "arrowhead": 0,
           "arrowwidth": 1
          },
          "autotypenumbers": "strict",
          "coloraxis": {
           "colorbar": {
            "outlinewidth": 0,
            "ticks": ""
           }
          },
          "colorscale": {
           "diverging": [
            [
             0,
             "#8e0152"
            ],
            [
             0.1,
             "#c51b7d"
            ],
            [
             0.2,
             "#de77ae"
            ],
            [
             0.3,
             "#f1b6da"
            ],
            [
             0.4,
             "#fde0ef"
            ],
            [
             0.5,
             "#f7f7f7"
            ],
            [
             0.6,
             "#e6f5d0"
            ],
            [
             0.7,
             "#b8e186"
            ],
            [
             0.8,
             "#7fbc41"
            ],
            [
             0.9,
             "#4d9221"
            ],
            [
             1,
             "#276419"
            ]
           ],
           "sequential": [
            [
             0,
             "#0d0887"
            ],
            [
             0.1111111111111111,
             "#46039f"
            ],
            [
             0.2222222222222222,
             "#7201a8"
            ],
            [
             0.3333333333333333,
             "#9c179e"
            ],
            [
             0.4444444444444444,
             "#bd3786"
            ],
            [
             0.5555555555555556,
             "#d8576b"
            ],
            [
             0.6666666666666666,
             "#ed7953"
            ],
            [
             0.7777777777777778,
             "#fb9f3a"
            ],
            [
             0.8888888888888888,
             "#fdca26"
            ],
            [
             1,
             "#f0f921"
            ]
           ],
           "sequentialminus": [
            [
             0,
             "#0d0887"
            ],
            [
             0.1111111111111111,
             "#46039f"
            ],
            [
             0.2222222222222222,
             "#7201a8"
            ],
            [
             0.3333333333333333,
             "#9c179e"
            ],
            [
             0.4444444444444444,
             "#bd3786"
            ],
            [
             0.5555555555555556,
             "#d8576b"
            ],
            [
             0.6666666666666666,
             "#ed7953"
            ],
            [
             0.7777777777777778,
             "#fb9f3a"
            ],
            [
             0.8888888888888888,
             "#fdca26"
            ],
            [
             1,
             "#f0f921"
            ]
           ]
          },
          "colorway": [
           "#636efa",
           "#EF553B",
           "#00cc96",
           "#ab63fa",
           "#FFA15A",
           "#19d3f3",
           "#FF6692",
           "#B6E880",
           "#FF97FF",
           "#FECB52"
          ],
          "font": {
           "color": "#2a3f5f"
          },
          "geo": {
           "bgcolor": "white",
           "lakecolor": "white",
           "landcolor": "#E5ECF6",
           "showlakes": true,
           "showland": true,
           "subunitcolor": "white"
          },
          "hoverlabel": {
           "align": "left"
          },
          "hovermode": "closest",
          "mapbox": {
           "style": "light"
          },
          "paper_bgcolor": "white",
          "plot_bgcolor": "#E5ECF6",
          "polar": {
           "angularaxis": {
            "gridcolor": "white",
            "linecolor": "white",
            "ticks": ""
           },
           "bgcolor": "#E5ECF6",
           "radialaxis": {
            "gridcolor": "white",
            "linecolor": "white",
            "ticks": ""
           }
          },
          "scene": {
           "xaxis": {
            "backgroundcolor": "#E5ECF6",
            "gridcolor": "white",
            "gridwidth": 2,
            "linecolor": "white",
            "showbackground": true,
            "ticks": "",
            "zerolinecolor": "white"
           },
           "yaxis": {
            "backgroundcolor": "#E5ECF6",
            "gridcolor": "white",
            "gridwidth": 2,
            "linecolor": "white",
            "showbackground": true,
            "ticks": "",
            "zerolinecolor": "white"
           },
           "zaxis": {
            "backgroundcolor": "#E5ECF6",
            "gridcolor": "white",
            "gridwidth": 2,
            "linecolor": "white",
            "showbackground": true,
            "ticks": "",
            "zerolinecolor": "white"
           }
          },
          "shapedefaults": {
           "line": {
            "color": "#2a3f5f"
           }
          },
          "ternary": {
           "aaxis": {
            "gridcolor": "white",
            "linecolor": "white",
            "ticks": ""
           },
           "baxis": {
            "gridcolor": "white",
            "linecolor": "white",
            "ticks": ""
           },
           "bgcolor": "#E5ECF6",
           "caxis": {
            "gridcolor": "white",
            "linecolor": "white",
            "ticks": ""
           }
          },
          "title": {
           "x": 0.05
          },
          "xaxis": {
           "automargin": true,
           "gridcolor": "white",
           "linecolor": "white",
           "ticks": "",
           "title": {
            "standoff": 15
           },
           "zerolinecolor": "white",
           "zerolinewidth": 2
          },
          "yaxis": {
           "automargin": true,
           "gridcolor": "white",
           "linecolor": "white",
           "ticks": "",
           "title": {
            "standoff": 15
           },
           "zerolinecolor": "white",
           "zerolinewidth": 2
          }
         }
        },
        "xaxis": {
         "anchor": "y",
         "domain": [
          0,
          1
         ],
         "range": [
          0,
          9
         ],
         "title": {
          "text": "value"
         }
        },
        "yaxis": {
         "anchor": "x",
         "domain": [
          0,
          1
         ],
         "title": {
          "text": "count"
         }
        }
       }
      }
     },
     "metadata": {},
     "output_type": "display_data"
    }
   ],
   "source": [
    "fig = px.histogram(R, nbins=10, range_x=[0, 9], labels={'x': 'Valeurs', 'y': 'Fréquence'})\n",
    "fig.show()"
   ]
  },
  {
   "cell_type": "markdown",
   "metadata": {
    "id": "BoIJ71z2a0aY"
   },
   "source": [
    "---------------------------------------------------------"
   ]
  },
  {
   "cell_type": "markdown",
   "metadata": {
    "id": "QXOHm1PqknPj"
   },
   "source": [
    "## **Job 14**\n",
    "A l'aide de matplotlib (ou d'une autre librairie de votre choix), visualisez la distribution et dispersion des données du tableau $R$ à travers leurs **quartiles** en utilisant l'outil statistique, le boxplot."
   ]
  },
  {
   "cell_type": "code",
   "execution_count": 41,
   "metadata": {
    "id": "olFRkPQHkxwV"
   },
   "outputs": [
    {
     "data": {
      "application/vnd.plotly.v1+json": {
       "config": {
        "plotlyServerURL": "https://plot.ly"
       },
       "data": [
        {
         "alignmentgroup": "True",
         "hovertemplate": "variable=%{x}<br>value=%{y}<extra></extra>",
         "legendgroup": "",
         "marker": {
          "color": "#636efa"
         },
         "name": "",
         "notched": false,
         "offsetgroup": "",
         "orientation": "v",
         "showlegend": false,
         "type": "box",
         "x": [
          "0",
          "0",
          "0",
          "0",
          "0",
          "0",
          "0",
          "0",
          "0",
          "0",
          "0",
          "0",
          "0",
          "0",
          "0",
          "0",
          "0",
          "0",
          "0",
          "0",
          "0",
          "0",
          "0",
          "0",
          "0",
          "0",
          "0",
          "0",
          "0",
          "0",
          "0",
          "0",
          "0",
          "0",
          "0",
          "0",
          "0",
          "0",
          "0",
          "0",
          "0",
          "0",
          "0",
          "0",
          "0",
          "0",
          "0",
          "0",
          "0",
          "0",
          "0",
          "0",
          "0",
          "0",
          "0",
          "0",
          "0",
          "0",
          "0",
          "0",
          "0",
          "0",
          "0",
          "0",
          "0",
          "0",
          "0",
          "0",
          "0",
          "0",
          "0",
          "0",
          "0",
          "0",
          "0",
          "0",
          "0",
          "0",
          "0",
          "0",
          "0",
          "0",
          "0",
          "0",
          "0",
          "0",
          "0",
          "0",
          "0",
          "0",
          "0",
          "0",
          "0",
          "0",
          "0",
          "0",
          "0",
          "0",
          "0",
          "0",
          "0",
          "0",
          "0",
          "0",
          "0",
          "0",
          "0",
          "0",
          "0",
          "0",
          "0",
          "0",
          "0",
          "0",
          "0",
          "0",
          "0",
          "0",
          "0",
          "0",
          "0",
          "0",
          "0",
          "0",
          "0",
          "0",
          "0",
          "0",
          "0",
          "0",
          "0",
          "0",
          "0",
          "0",
          "0",
          "0",
          "0",
          "0",
          "0",
          "0",
          "0",
          "0",
          "0",
          "0",
          "0",
          "0",
          "0",
          "0",
          "0",
          "0",
          "0",
          "0",
          "0",
          "0",
          "0",
          "0",
          "0",
          "0",
          "0",
          "0",
          "0",
          "0",
          "0",
          "0",
          "0",
          "0",
          "0",
          "0",
          "0",
          "0",
          "0",
          "0",
          "0",
          "0",
          "0",
          "0",
          "0",
          "0",
          "0",
          "0",
          "0",
          "0",
          "0",
          "0",
          "0",
          "0",
          "0",
          "0",
          "0",
          "0",
          "0",
          "0",
          "0",
          "0",
          "0",
          "0",
          "0",
          "0",
          "0",
          "0",
          "0",
          "0",
          "0",
          "0",
          "0",
          "0",
          "0",
          "0",
          "0",
          "0",
          "0",
          "0",
          "0",
          "0",
          "0",
          "0",
          "0",
          "0",
          "0",
          "0",
          "0",
          "0",
          "0",
          "0",
          "0",
          "0",
          "0",
          "0",
          "0",
          "0",
          "0",
          "0",
          "0",
          "0",
          "0",
          "0",
          "0",
          "0",
          "0",
          "0",
          "0",
          "0",
          "0",
          "0",
          "0",
          "0",
          "0",
          "0",
          "0",
          "0",
          "0",
          "0",
          "0",
          "0",
          "0",
          "0",
          "0",
          "0",
          "0",
          "0",
          "0",
          "0",
          "0",
          "0",
          "0",
          "0",
          "0",
          "0",
          "0",
          "0",
          "0",
          "0",
          "0",
          "0",
          "0",
          "0",
          "0",
          "0",
          "0",
          "0",
          "0",
          "0",
          "0",
          "0",
          "0",
          "0",
          "0",
          "0",
          "0",
          "0",
          "0",
          "0",
          "0",
          "0",
          "0",
          "0",
          "0",
          "0",
          "0",
          "0",
          "0",
          "0",
          "0",
          "0",
          "0",
          "0",
          "0",
          "0",
          "0",
          "0",
          "0",
          "0",
          "0",
          "0",
          "0",
          "0",
          "0",
          "0",
          "0",
          "0",
          "0",
          "0",
          "0",
          "0",
          "0",
          "0",
          "0",
          "0",
          "0",
          "0",
          "0",
          "0",
          "0",
          "0",
          "0",
          "0",
          "0",
          "0",
          "0",
          "0",
          "0",
          "0",
          "0",
          "0",
          "0",
          "0",
          "0",
          "0",
          "0",
          "0",
          "0",
          "0",
          "0",
          "0",
          "0",
          "0",
          "0",
          "0",
          "0",
          "0",
          "0",
          "0",
          "0",
          "0",
          "0",
          "0",
          "0",
          "0",
          "0",
          "0",
          "0",
          "0",
          "0",
          "0",
          "0",
          "0",
          "0",
          "0",
          "0",
          "0",
          "0",
          "0",
          "0",
          "0",
          "0",
          "0",
          "0",
          "0",
          "0",
          "0",
          "0",
          "0",
          "0",
          "0",
          "0",
          "0",
          "0",
          "0",
          "0",
          "0",
          "0",
          "0",
          "0",
          "0",
          "0",
          "0",
          "0",
          "0",
          "0",
          "0",
          "0",
          "0",
          "0",
          "0",
          "0",
          "0",
          "0",
          "0",
          "0",
          "0",
          "0",
          "0",
          "0",
          "0",
          "0",
          "0",
          "0",
          "0",
          "0",
          "0",
          "0",
          "0",
          "0",
          "0",
          "0",
          "0",
          "0",
          "0",
          "0",
          "0",
          "0",
          "0",
          "0",
          "0",
          "0",
          "0",
          "0",
          "0",
          "0",
          "0"
         ],
         "x0": " ",
         "xaxis": "x",
         "y": [
          5,
          3,
          2,
          5,
          3,
          9,
          6,
          0,
          8,
          0,
          1,
          6,
          4,
          4,
          9,
          2,
          1,
          3,
          5,
          6,
          5,
          9,
          1,
          5,
          8,
          9,
          6,
          5,
          2,
          7,
          6,
          5,
          8,
          6,
          7,
          2,
          0,
          5,
          3,
          6,
          3,
          8,
          5,
          3,
          7,
          2,
          5,
          6,
          0,
          7,
          8,
          3,
          8,
          5,
          7,
          2,
          3,
          1,
          5,
          2,
          6,
          2,
          8,
          9,
          8,
          2,
          0,
          5,
          4,
          7,
          5,
          8,
          4,
          2,
          4,
          6,
          7,
          2,
          6,
          8,
          1,
          5,
          2,
          4,
          8,
          0,
          1,
          9,
          0,
          4,
          0,
          5,
          0,
          4,
          7,
          7,
          4,
          6,
          6,
          4,
          1,
          7,
          5,
          2,
          2,
          4,
          6,
          9,
          5,
          0,
          9,
          9,
          7,
          7,
          5,
          3,
          0,
          9,
          7,
          9,
          1,
          5,
          1,
          4,
          0,
          0,
          9,
          9,
          5,
          0,
          1,
          2,
          7,
          1,
          9,
          6,
          0,
          4,
          5,
          1,
          6,
          6,
          1,
          7,
          7,
          4,
          2,
          9,
          5,
          4,
          2,
          4,
          9,
          8,
          5,
          1,
          4,
          7,
          8,
          1,
          3,
          0,
          4,
          9,
          5,
          5,
          9,
          1,
          8,
          7,
          3,
          9,
          8,
          0,
          4,
          9,
          8,
          5,
          2,
          2,
          8,
          1,
          6,
          5,
          9,
          7,
          1,
          6,
          4,
          4,
          7,
          0,
          4,
          9,
          9,
          5,
          6,
          9,
          2,
          2,
          0,
          1,
          9,
          7,
          1,
          0,
          5,
          8,
          6,
          8,
          1,
          4,
          6,
          6,
          9,
          3,
          2,
          3,
          3,
          3,
          2,
          4,
          4,
          3,
          5,
          1,
          5,
          1,
          0,
          5,
          7,
          1,
          2,
          2,
          4,
          8,
          8,
          8,
          0,
          9,
          5,
          0,
          0,
          3,
          9,
          8,
          4,
          8,
          0,
          4,
          5,
          3,
          5,
          9,
          1,
          8,
          7,
          3,
          0,
          4,
          1,
          8,
          8,
          5,
          8,
          3,
          3,
          8,
          2,
          4,
          4,
          4,
          4,
          6,
          7,
          9,
          9,
          2,
          5,
          8,
          0,
          5,
          6,
          7,
          6,
          4,
          3,
          4,
          4,
          9,
          0,
          3,
          0,
          7,
          7,
          3,
          1,
          5,
          1,
          9,
          3,
          3,
          5,
          6,
          7,
          3,
          1,
          7,
          8,
          0,
          9,
          6,
          6,
          5,
          7,
          3,
          5,
          1,
          6,
          3,
          2,
          5,
          9,
          8,
          6,
          9,
          6,
          8,
          3,
          5,
          9,
          9,
          9,
          8,
          1,
          8,
          0,
          0,
          1,
          5,
          7,
          0,
          5,
          1,
          3,
          9,
          9,
          6,
          0,
          0,
          3,
          2,
          5,
          5,
          9,
          2,
          9,
          6,
          5,
          4,
          6,
          1,
          3,
          4,
          1,
          3,
          2,
          1,
          3,
          7,
          0,
          7,
          0,
          8,
          8,
          7,
          4,
          3,
          1,
          0,
          3,
          6,
          2,
          0,
          6,
          4,
          8,
          2,
          4,
          5,
          1,
          7,
          2,
          8,
          2,
          6,
          8,
          3,
          4,
          2,
          1,
          7,
          3,
          7,
          6,
          7,
          6,
          1,
          0,
          0,
          5,
          2,
          2,
          5,
          8,
          5,
          3,
          9,
          7,
          1,
          6,
          9,
          7,
          8,
          1,
          4,
          9,
          3,
          3,
          9,
          8,
          2,
          1,
          7,
          4,
          5,
          2,
          2,
          4,
          5,
          9,
          5,
          8,
          0,
          1,
          3,
          9,
          0,
          5,
          2
         ],
         "y0": " ",
         "yaxis": "y"
        }
       ],
       "layout": {
        "boxmode": "group",
        "legend": {
         "tracegroupgap": 0
        },
        "margin": {
         "t": 60
        },
        "template": {
         "data": {
          "bar": [
           {
            "error_x": {
             "color": "#2a3f5f"
            },
            "error_y": {
             "color": "#2a3f5f"
            },
            "marker": {
             "line": {
              "color": "#E5ECF6",
              "width": 0.5
             },
             "pattern": {
              "fillmode": "overlay",
              "size": 10,
              "solidity": 0.2
             }
            },
            "type": "bar"
           }
          ],
          "barpolar": [
           {
            "marker": {
             "line": {
              "color": "#E5ECF6",
              "width": 0.5
             },
             "pattern": {
              "fillmode": "overlay",
              "size": 10,
              "solidity": 0.2
             }
            },
            "type": "barpolar"
           }
          ],
          "carpet": [
           {
            "aaxis": {
             "endlinecolor": "#2a3f5f",
             "gridcolor": "white",
             "linecolor": "white",
             "minorgridcolor": "white",
             "startlinecolor": "#2a3f5f"
            },
            "baxis": {
             "endlinecolor": "#2a3f5f",
             "gridcolor": "white",
             "linecolor": "white",
             "minorgridcolor": "white",
             "startlinecolor": "#2a3f5f"
            },
            "type": "carpet"
           }
          ],
          "choropleth": [
           {
            "colorbar": {
             "outlinewidth": 0,
             "ticks": ""
            },
            "type": "choropleth"
           }
          ],
          "contour": [
           {
            "colorbar": {
             "outlinewidth": 0,
             "ticks": ""
            },
            "colorscale": [
             [
              0,
              "#0d0887"
             ],
             [
              0.1111111111111111,
              "#46039f"
             ],
             [
              0.2222222222222222,
              "#7201a8"
             ],
             [
              0.3333333333333333,
              "#9c179e"
             ],
             [
              0.4444444444444444,
              "#bd3786"
             ],
             [
              0.5555555555555556,
              "#d8576b"
             ],
             [
              0.6666666666666666,
              "#ed7953"
             ],
             [
              0.7777777777777778,
              "#fb9f3a"
             ],
             [
              0.8888888888888888,
              "#fdca26"
             ],
             [
              1,
              "#f0f921"
             ]
            ],
            "type": "contour"
           }
          ],
          "contourcarpet": [
           {
            "colorbar": {
             "outlinewidth": 0,
             "ticks": ""
            },
            "type": "contourcarpet"
           }
          ],
          "heatmap": [
           {
            "colorbar": {
             "outlinewidth": 0,
             "ticks": ""
            },
            "colorscale": [
             [
              0,
              "#0d0887"
             ],
             [
              0.1111111111111111,
              "#46039f"
             ],
             [
              0.2222222222222222,
              "#7201a8"
             ],
             [
              0.3333333333333333,
              "#9c179e"
             ],
             [
              0.4444444444444444,
              "#bd3786"
             ],
             [
              0.5555555555555556,
              "#d8576b"
             ],
             [
              0.6666666666666666,
              "#ed7953"
             ],
             [
              0.7777777777777778,
              "#fb9f3a"
             ],
             [
              0.8888888888888888,
              "#fdca26"
             ],
             [
              1,
              "#f0f921"
             ]
            ],
            "type": "heatmap"
           }
          ],
          "heatmapgl": [
           {
            "colorbar": {
             "outlinewidth": 0,
             "ticks": ""
            },
            "colorscale": [
             [
              0,
              "#0d0887"
             ],
             [
              0.1111111111111111,
              "#46039f"
             ],
             [
              0.2222222222222222,
              "#7201a8"
             ],
             [
              0.3333333333333333,
              "#9c179e"
             ],
             [
              0.4444444444444444,
              "#bd3786"
             ],
             [
              0.5555555555555556,
              "#d8576b"
             ],
             [
              0.6666666666666666,
              "#ed7953"
             ],
             [
              0.7777777777777778,
              "#fb9f3a"
             ],
             [
              0.8888888888888888,
              "#fdca26"
             ],
             [
              1,
              "#f0f921"
             ]
            ],
            "type": "heatmapgl"
           }
          ],
          "histogram": [
           {
            "marker": {
             "pattern": {
              "fillmode": "overlay",
              "size": 10,
              "solidity": 0.2
             }
            },
            "type": "histogram"
           }
          ],
          "histogram2d": [
           {
            "colorbar": {
             "outlinewidth": 0,
             "ticks": ""
            },
            "colorscale": [
             [
              0,
              "#0d0887"
             ],
             [
              0.1111111111111111,
              "#46039f"
             ],
             [
              0.2222222222222222,
              "#7201a8"
             ],
             [
              0.3333333333333333,
              "#9c179e"
             ],
             [
              0.4444444444444444,
              "#bd3786"
             ],
             [
              0.5555555555555556,
              "#d8576b"
             ],
             [
              0.6666666666666666,
              "#ed7953"
             ],
             [
              0.7777777777777778,
              "#fb9f3a"
             ],
             [
              0.8888888888888888,
              "#fdca26"
             ],
             [
              1,
              "#f0f921"
             ]
            ],
            "type": "histogram2d"
           }
          ],
          "histogram2dcontour": [
           {
            "colorbar": {
             "outlinewidth": 0,
             "ticks": ""
            },
            "colorscale": [
             [
              0,
              "#0d0887"
             ],
             [
              0.1111111111111111,
              "#46039f"
             ],
             [
              0.2222222222222222,
              "#7201a8"
             ],
             [
              0.3333333333333333,
              "#9c179e"
             ],
             [
              0.4444444444444444,
              "#bd3786"
             ],
             [
              0.5555555555555556,
              "#d8576b"
             ],
             [
              0.6666666666666666,
              "#ed7953"
             ],
             [
              0.7777777777777778,
              "#fb9f3a"
             ],
             [
              0.8888888888888888,
              "#fdca26"
             ],
             [
              1,
              "#f0f921"
             ]
            ],
            "type": "histogram2dcontour"
           }
          ],
          "mesh3d": [
           {
            "colorbar": {
             "outlinewidth": 0,
             "ticks": ""
            },
            "type": "mesh3d"
           }
          ],
          "parcoords": [
           {
            "line": {
             "colorbar": {
              "outlinewidth": 0,
              "ticks": ""
             }
            },
            "type": "parcoords"
           }
          ],
          "pie": [
           {
            "automargin": true,
            "type": "pie"
           }
          ],
          "scatter": [
           {
            "fillpattern": {
             "fillmode": "overlay",
             "size": 10,
             "solidity": 0.2
            },
            "type": "scatter"
           }
          ],
          "scatter3d": [
           {
            "line": {
             "colorbar": {
              "outlinewidth": 0,
              "ticks": ""
             }
            },
            "marker": {
             "colorbar": {
              "outlinewidth": 0,
              "ticks": ""
             }
            },
            "type": "scatter3d"
           }
          ],
          "scattercarpet": [
           {
            "marker": {
             "colorbar": {
              "outlinewidth": 0,
              "ticks": ""
             }
            },
            "type": "scattercarpet"
           }
          ],
          "scattergeo": [
           {
            "marker": {
             "colorbar": {
              "outlinewidth": 0,
              "ticks": ""
             }
            },
            "type": "scattergeo"
           }
          ],
          "scattergl": [
           {
            "marker": {
             "colorbar": {
              "outlinewidth": 0,
              "ticks": ""
             }
            },
            "type": "scattergl"
           }
          ],
          "scattermapbox": [
           {
            "marker": {
             "colorbar": {
              "outlinewidth": 0,
              "ticks": ""
             }
            },
            "type": "scattermapbox"
           }
          ],
          "scatterpolar": [
           {
            "marker": {
             "colorbar": {
              "outlinewidth": 0,
              "ticks": ""
             }
            },
            "type": "scatterpolar"
           }
          ],
          "scatterpolargl": [
           {
            "marker": {
             "colorbar": {
              "outlinewidth": 0,
              "ticks": ""
             }
            },
            "type": "scatterpolargl"
           }
          ],
          "scatterternary": [
           {
            "marker": {
             "colorbar": {
              "outlinewidth": 0,
              "ticks": ""
             }
            },
            "type": "scatterternary"
           }
          ],
          "surface": [
           {
            "colorbar": {
             "outlinewidth": 0,
             "ticks": ""
            },
            "colorscale": [
             [
              0,
              "#0d0887"
             ],
             [
              0.1111111111111111,
              "#46039f"
             ],
             [
              0.2222222222222222,
              "#7201a8"
             ],
             [
              0.3333333333333333,
              "#9c179e"
             ],
             [
              0.4444444444444444,
              "#bd3786"
             ],
             [
              0.5555555555555556,
              "#d8576b"
             ],
             [
              0.6666666666666666,
              "#ed7953"
             ],
             [
              0.7777777777777778,
              "#fb9f3a"
             ],
             [
              0.8888888888888888,
              "#fdca26"
             ],
             [
              1,
              "#f0f921"
             ]
            ],
            "type": "surface"
           }
          ],
          "table": [
           {
            "cells": {
             "fill": {
              "color": "#EBF0F8"
             },
             "line": {
              "color": "white"
             }
            },
            "header": {
             "fill": {
              "color": "#C8D4E3"
             },
             "line": {
              "color": "white"
             }
            },
            "type": "table"
           }
          ]
         },
         "layout": {
          "annotationdefaults": {
           "arrowcolor": "#2a3f5f",
           "arrowhead": 0,
           "arrowwidth": 1
          },
          "autotypenumbers": "strict",
          "coloraxis": {
           "colorbar": {
            "outlinewidth": 0,
            "ticks": ""
           }
          },
          "colorscale": {
           "diverging": [
            [
             0,
             "#8e0152"
            ],
            [
             0.1,
             "#c51b7d"
            ],
            [
             0.2,
             "#de77ae"
            ],
            [
             0.3,
             "#f1b6da"
            ],
            [
             0.4,
             "#fde0ef"
            ],
            [
             0.5,
             "#f7f7f7"
            ],
            [
             0.6,
             "#e6f5d0"
            ],
            [
             0.7,
             "#b8e186"
            ],
            [
             0.8,
             "#7fbc41"
            ],
            [
             0.9,
             "#4d9221"
            ],
            [
             1,
             "#276419"
            ]
           ],
           "sequential": [
            [
             0,
             "#0d0887"
            ],
            [
             0.1111111111111111,
             "#46039f"
            ],
            [
             0.2222222222222222,
             "#7201a8"
            ],
            [
             0.3333333333333333,
             "#9c179e"
            ],
            [
             0.4444444444444444,
             "#bd3786"
            ],
            [
             0.5555555555555556,
             "#d8576b"
            ],
            [
             0.6666666666666666,
             "#ed7953"
            ],
            [
             0.7777777777777778,
             "#fb9f3a"
            ],
            [
             0.8888888888888888,
             "#fdca26"
            ],
            [
             1,
             "#f0f921"
            ]
           ],
           "sequentialminus": [
            [
             0,
             "#0d0887"
            ],
            [
             0.1111111111111111,
             "#46039f"
            ],
            [
             0.2222222222222222,
             "#7201a8"
            ],
            [
             0.3333333333333333,
             "#9c179e"
            ],
            [
             0.4444444444444444,
             "#bd3786"
            ],
            [
             0.5555555555555556,
             "#d8576b"
            ],
            [
             0.6666666666666666,
             "#ed7953"
            ],
            [
             0.7777777777777778,
             "#fb9f3a"
            ],
            [
             0.8888888888888888,
             "#fdca26"
            ],
            [
             1,
             "#f0f921"
            ]
           ]
          },
          "colorway": [
           "#636efa",
           "#EF553B",
           "#00cc96",
           "#ab63fa",
           "#FFA15A",
           "#19d3f3",
           "#FF6692",
           "#B6E880",
           "#FF97FF",
           "#FECB52"
          ],
          "font": {
           "color": "#2a3f5f"
          },
          "geo": {
           "bgcolor": "white",
           "lakecolor": "white",
           "landcolor": "#E5ECF6",
           "showlakes": true,
           "showland": true,
           "subunitcolor": "white"
          },
          "hoverlabel": {
           "align": "left"
          },
          "hovermode": "closest",
          "mapbox": {
           "style": "light"
          },
          "paper_bgcolor": "white",
          "plot_bgcolor": "#E5ECF6",
          "polar": {
           "angularaxis": {
            "gridcolor": "white",
            "linecolor": "white",
            "ticks": ""
           },
           "bgcolor": "#E5ECF6",
           "radialaxis": {
            "gridcolor": "white",
            "linecolor": "white",
            "ticks": ""
           }
          },
          "scene": {
           "xaxis": {
            "backgroundcolor": "#E5ECF6",
            "gridcolor": "white",
            "gridwidth": 2,
            "linecolor": "white",
            "showbackground": true,
            "ticks": "",
            "zerolinecolor": "white"
           },
           "yaxis": {
            "backgroundcolor": "#E5ECF6",
            "gridcolor": "white",
            "gridwidth": 2,
            "linecolor": "white",
            "showbackground": true,
            "ticks": "",
            "zerolinecolor": "white"
           },
           "zaxis": {
            "backgroundcolor": "#E5ECF6",
            "gridcolor": "white",
            "gridwidth": 2,
            "linecolor": "white",
            "showbackground": true,
            "ticks": "",
            "zerolinecolor": "white"
           }
          },
          "shapedefaults": {
           "line": {
            "color": "#2a3f5f"
           }
          },
          "ternary": {
           "aaxis": {
            "gridcolor": "white",
            "linecolor": "white",
            "ticks": ""
           },
           "baxis": {
            "gridcolor": "white",
            "linecolor": "white",
            "ticks": ""
           },
           "bgcolor": "#E5ECF6",
           "caxis": {
            "gridcolor": "white",
            "linecolor": "white",
            "ticks": ""
           }
          },
          "title": {
           "x": 0.05
          },
          "xaxis": {
           "automargin": true,
           "gridcolor": "white",
           "linecolor": "white",
           "ticks": "",
           "title": {
            "standoff": 15
           },
           "zerolinecolor": "white",
           "zerolinewidth": 2
          },
          "yaxis": {
           "automargin": true,
           "gridcolor": "white",
           "linecolor": "white",
           "ticks": "",
           "title": {
            "standoff": 15
           },
           "zerolinecolor": "white",
           "zerolinewidth": 2
          }
         }
        },
        "xaxis": {
         "anchor": "y",
         "domain": [
          0,
          1
         ],
         "title": {
          "text": "variable"
         }
        },
        "yaxis": {
         "anchor": "x",
         "domain": [
          0,
          1
         ],
         "title": {
          "text": "value"
         }
        }
       }
      }
     },
     "metadata": {},
     "output_type": "display_data"
    }
   ],
   "source": [
    "fig = px.box(R, labels={'x': 'Données'})\n",
    "fig.show()"
   ]
  },
  {
   "cell_type": "markdown",
   "metadata": {
    "id": "tHtFR_Mha177"
   },
   "source": [
    "-----------------------------------------------------"
   ]
  },
  {
   "cell_type": "markdown",
   "metadata": {
    "id": "7FRhuAFaa3Yy"
   },
   "source": [
    "## **Job 15**\n",
    "\n",
    "Considérons des données de résultats d'une analyse chimique de vins cultivés en Italie issus de trois cultivars différents. Ces données ont été récupérées et chargées dans un `DataFrame` via la code ci-dessous.\n",
    "\n",
    "1. Affichez différentes informations de `wine_df` (nombre d'observations, nombre de caractéristiques, type de données, données manquantes, mémoire allouée en RAM).\n",
    "\n",
    "2. A l'aide d'une fonction spécifique de `Pandas`, générez les statistiques descriptives (moyenne, médiane, maximum, ...) du jeu de données. Qu'est ce que vous observez ?\n",
    "\n",
    "3. Visualisez la distribution des différentes variables du jeu de données à l'aide d'un histogramme et d'un boxplot.\n",
    "\n",
    "4. A l'aide d'une fonction spécifique de `Pandas`, calculez la corrélation linéaire de Pearson par paire des variables.\n"
   ]
  },
  {
   "cell_type": "code",
   "execution_count": 42,
   "metadata": {
    "colab": {
     "base_uri": "https://localhost:8080/",
     "height": 226
    },
    "id": "tlFNsLZ5a7fr",
    "outputId": "56aa52f5-af6f-4a9f-edee-6b04437a61e1",
    "scrolled": true
   },
   "outputs": [
    {
     "data": {
      "text/html": [
       "<div>\n",
       "<style scoped>\n",
       "    .dataframe tbody tr th:only-of-type {\n",
       "        vertical-align: middle;\n",
       "    }\n",
       "\n",
       "    .dataframe tbody tr th {\n",
       "        vertical-align: top;\n",
       "    }\n",
       "\n",
       "    .dataframe thead th {\n",
       "        text-align: right;\n",
       "    }\n",
       "</style>\n",
       "<table border=\"1\" class=\"dataframe\">\n",
       "  <thead>\n",
       "    <tr style=\"text-align: right;\">\n",
       "      <th></th>\n",
       "      <th>alcohol</th>\n",
       "      <th>malic_acid</th>\n",
       "      <th>ash</th>\n",
       "      <th>alcalinity_of_ash</th>\n",
       "      <th>magnesium</th>\n",
       "      <th>total_phenols</th>\n",
       "      <th>flavanoids</th>\n",
       "      <th>nonflavanoid_phenols</th>\n",
       "      <th>proanthocyanins</th>\n",
       "      <th>color_intensity</th>\n",
       "      <th>hue</th>\n",
       "      <th>od280/od315_of_diluted_wines</th>\n",
       "      <th>proline</th>\n",
       "    </tr>\n",
       "  </thead>\n",
       "  <tbody>\n",
       "    <tr>\n",
       "      <th>0</th>\n",
       "      <td>14.23</td>\n",
       "      <td>1.71</td>\n",
       "      <td>2.43</td>\n",
       "      <td>15.6</td>\n",
       "      <td>127.0</td>\n",
       "      <td>2.80</td>\n",
       "      <td>3.06</td>\n",
       "      <td>0.28</td>\n",
       "      <td>2.29</td>\n",
       "      <td>5.64</td>\n",
       "      <td>1.04</td>\n",
       "      <td>3.92</td>\n",
       "      <td>1065.0</td>\n",
       "    </tr>\n",
       "    <tr>\n",
       "      <th>1</th>\n",
       "      <td>13.20</td>\n",
       "      <td>1.78</td>\n",
       "      <td>2.14</td>\n",
       "      <td>11.2</td>\n",
       "      <td>100.0</td>\n",
       "      <td>2.65</td>\n",
       "      <td>2.76</td>\n",
       "      <td>0.26</td>\n",
       "      <td>1.28</td>\n",
       "      <td>4.38</td>\n",
       "      <td>1.05</td>\n",
       "      <td>3.40</td>\n",
       "      <td>1050.0</td>\n",
       "    </tr>\n",
       "    <tr>\n",
       "      <th>2</th>\n",
       "      <td>13.16</td>\n",
       "      <td>2.36</td>\n",
       "      <td>2.67</td>\n",
       "      <td>18.6</td>\n",
       "      <td>101.0</td>\n",
       "      <td>2.80</td>\n",
       "      <td>3.24</td>\n",
       "      <td>0.30</td>\n",
       "      <td>2.81</td>\n",
       "      <td>5.68</td>\n",
       "      <td>1.03</td>\n",
       "      <td>3.17</td>\n",
       "      <td>1185.0</td>\n",
       "    </tr>\n",
       "    <tr>\n",
       "      <th>3</th>\n",
       "      <td>14.37</td>\n",
       "      <td>1.95</td>\n",
       "      <td>2.50</td>\n",
       "      <td>16.8</td>\n",
       "      <td>113.0</td>\n",
       "      <td>3.85</td>\n",
       "      <td>3.49</td>\n",
       "      <td>0.24</td>\n",
       "      <td>2.18</td>\n",
       "      <td>7.80</td>\n",
       "      <td>0.86</td>\n",
       "      <td>3.45</td>\n",
       "      <td>1480.0</td>\n",
       "    </tr>\n",
       "    <tr>\n",
       "      <th>4</th>\n",
       "      <td>13.24</td>\n",
       "      <td>2.59</td>\n",
       "      <td>2.87</td>\n",
       "      <td>21.0</td>\n",
       "      <td>118.0</td>\n",
       "      <td>2.80</td>\n",
       "      <td>2.69</td>\n",
       "      <td>0.39</td>\n",
       "      <td>1.82</td>\n",
       "      <td>4.32</td>\n",
       "      <td>1.04</td>\n",
       "      <td>2.93</td>\n",
       "      <td>735.0</td>\n",
       "    </tr>\n",
       "  </tbody>\n",
       "</table>\n",
       "</div>"
      ],
      "text/plain": [
       "   alcohol  malic_acid   ash  alcalinity_of_ash  magnesium  total_phenols  \\\n",
       "0    14.23        1.71  2.43               15.6      127.0           2.80   \n",
       "1    13.20        1.78  2.14               11.2      100.0           2.65   \n",
       "2    13.16        2.36  2.67               18.6      101.0           2.80   \n",
       "3    14.37        1.95  2.50               16.8      113.0           3.85   \n",
       "4    13.24        2.59  2.87               21.0      118.0           2.80   \n",
       "\n",
       "   flavanoids  nonflavanoid_phenols  proanthocyanins  color_intensity   hue  \\\n",
       "0        3.06                  0.28             2.29             5.64  1.04   \n",
       "1        2.76                  0.26             1.28             4.38  1.05   \n",
       "2        3.24                  0.30             2.81             5.68  1.03   \n",
       "3        3.49                  0.24             2.18             7.80  0.86   \n",
       "4        2.69                  0.39             1.82             4.32  1.04   \n",
       "\n",
       "   od280/od315_of_diluted_wines  proline  \n",
       "0                          3.92   1065.0  \n",
       "1                          3.40   1050.0  \n",
       "2                          3.17   1185.0  \n",
       "3                          3.45   1480.0  \n",
       "4                          2.93    735.0  "
      ]
     },
     "execution_count": 42,
     "metadata": {},
     "output_type": "execute_result"
    }
   ],
   "source": [
    "wine_data = load_wine()\n",
    "\n",
    "wine_df = pd.DataFrame(data=wine_data.data, columns=wine_data.feature_names)\n",
    "wine_df.head()"
   ]
  },
  {
   "cell_type": "code",
   "execution_count": 43,
   "metadata": {},
   "outputs": [
    {
     "data": {
      "text/plain": [
       "(178, 13)"
      ]
     },
     "execution_count": 43,
     "metadata": {},
     "output_type": "execute_result"
    }
   ],
   "source": [
    "# Nombre d'observations (lignes) et nombre de caractéristiques (colonnes)\n",
    "wine_df.shape"
   ]
  },
  {
   "cell_type": "code",
   "execution_count": 44,
   "metadata": {},
   "outputs": [
    {
     "data": {
      "text/plain": [
       "alcohol                         float64\n",
       "malic_acid                      float64\n",
       "ash                             float64\n",
       "alcalinity_of_ash               float64\n",
       "magnesium                       float64\n",
       "total_phenols                   float64\n",
       "flavanoids                      float64\n",
       "nonflavanoid_phenols            float64\n",
       "proanthocyanins                 float64\n",
       "color_intensity                 float64\n",
       "hue                             float64\n",
       "od280/od315_of_diluted_wines    float64\n",
       "proline                         float64\n",
       "dtype: object"
      ]
     },
     "execution_count": 44,
     "metadata": {},
     "output_type": "execute_result"
    }
   ],
   "source": [
    "# Type de données de chaque colonne\n",
    "wine_df.dtypes"
   ]
  },
  {
   "cell_type": "code",
   "execution_count": 45,
   "metadata": {},
   "outputs": [
    {
     "data": {
      "text/plain": [
       "alcohol                         0\n",
       "malic_acid                      0\n",
       "ash                             0\n",
       "alcalinity_of_ash               0\n",
       "magnesium                       0\n",
       "total_phenols                   0\n",
       "flavanoids                      0\n",
       "nonflavanoid_phenols            0\n",
       "proanthocyanins                 0\n",
       "color_intensity                 0\n",
       "hue                             0\n",
       "od280/od315_of_diluted_wines    0\n",
       "proline                         0\n",
       "dtype: int64"
      ]
     },
     "execution_count": 45,
     "metadata": {},
     "output_type": "execute_result"
    }
   ],
   "source": [
    "wine_df.isnull().sum()"
   ]
  },
  {
   "cell_type": "code",
   "execution_count": 46,
   "metadata": {},
   "outputs": [
    {
     "data": {
      "text/plain": [
       "18640"
      ]
     },
     "execution_count": 46,
     "metadata": {},
     "output_type": "execute_result"
    }
   ],
   "source": [
    "# Mémoire allouée en RAM en \"octet\"\n",
    "wine_df.memory_usage(deep=True).sum()"
   ]
  },
  {
   "cell_type": "code",
   "execution_count": 47,
   "metadata": {},
   "outputs": [
    {
     "data": {
      "text/html": [
       "<div>\n",
       "<style scoped>\n",
       "    .dataframe tbody tr th:only-of-type {\n",
       "        vertical-align: middle;\n",
       "    }\n",
       "\n",
       "    .dataframe tbody tr th {\n",
       "        vertical-align: top;\n",
       "    }\n",
       "\n",
       "    .dataframe thead th {\n",
       "        text-align: right;\n",
       "    }\n",
       "</style>\n",
       "<table border=\"1\" class=\"dataframe\">\n",
       "  <thead>\n",
       "    <tr style=\"text-align: right;\">\n",
       "      <th></th>\n",
       "      <th>alcohol</th>\n",
       "      <th>malic_acid</th>\n",
       "      <th>ash</th>\n",
       "      <th>alcalinity_of_ash</th>\n",
       "      <th>magnesium</th>\n",
       "      <th>total_phenols</th>\n",
       "      <th>flavanoids</th>\n",
       "      <th>nonflavanoid_phenols</th>\n",
       "      <th>proanthocyanins</th>\n",
       "      <th>color_intensity</th>\n",
       "      <th>hue</th>\n",
       "      <th>od280/od315_of_diluted_wines</th>\n",
       "      <th>proline</th>\n",
       "    </tr>\n",
       "  </thead>\n",
       "  <tbody>\n",
       "    <tr>\n",
       "      <th>count</th>\n",
       "      <td>178.000000</td>\n",
       "      <td>178.000000</td>\n",
       "      <td>178.000000</td>\n",
       "      <td>178.000000</td>\n",
       "      <td>178.000000</td>\n",
       "      <td>178.000000</td>\n",
       "      <td>178.000000</td>\n",
       "      <td>178.000000</td>\n",
       "      <td>178.000000</td>\n",
       "      <td>178.000000</td>\n",
       "      <td>178.000000</td>\n",
       "      <td>178.000000</td>\n",
       "      <td>178.000000</td>\n",
       "    </tr>\n",
       "    <tr>\n",
       "      <th>mean</th>\n",
       "      <td>13.000618</td>\n",
       "      <td>2.336348</td>\n",
       "      <td>2.366517</td>\n",
       "      <td>19.494944</td>\n",
       "      <td>99.741573</td>\n",
       "      <td>2.295112</td>\n",
       "      <td>2.029270</td>\n",
       "      <td>0.361854</td>\n",
       "      <td>1.590899</td>\n",
       "      <td>5.058090</td>\n",
       "      <td>0.957449</td>\n",
       "      <td>2.611685</td>\n",
       "      <td>746.893258</td>\n",
       "    </tr>\n",
       "    <tr>\n",
       "      <th>std</th>\n",
       "      <td>0.811827</td>\n",
       "      <td>1.117146</td>\n",
       "      <td>0.274344</td>\n",
       "      <td>3.339564</td>\n",
       "      <td>14.282484</td>\n",
       "      <td>0.625851</td>\n",
       "      <td>0.998859</td>\n",
       "      <td>0.124453</td>\n",
       "      <td>0.572359</td>\n",
       "      <td>2.318286</td>\n",
       "      <td>0.228572</td>\n",
       "      <td>0.709990</td>\n",
       "      <td>314.907474</td>\n",
       "    </tr>\n",
       "    <tr>\n",
       "      <th>min</th>\n",
       "      <td>11.030000</td>\n",
       "      <td>0.740000</td>\n",
       "      <td>1.360000</td>\n",
       "      <td>10.600000</td>\n",
       "      <td>70.000000</td>\n",
       "      <td>0.980000</td>\n",
       "      <td>0.340000</td>\n",
       "      <td>0.130000</td>\n",
       "      <td>0.410000</td>\n",
       "      <td>1.280000</td>\n",
       "      <td>0.480000</td>\n",
       "      <td>1.270000</td>\n",
       "      <td>278.000000</td>\n",
       "    </tr>\n",
       "    <tr>\n",
       "      <th>25%</th>\n",
       "      <td>12.362500</td>\n",
       "      <td>1.602500</td>\n",
       "      <td>2.210000</td>\n",
       "      <td>17.200000</td>\n",
       "      <td>88.000000</td>\n",
       "      <td>1.742500</td>\n",
       "      <td>1.205000</td>\n",
       "      <td>0.270000</td>\n",
       "      <td>1.250000</td>\n",
       "      <td>3.220000</td>\n",
       "      <td>0.782500</td>\n",
       "      <td>1.937500</td>\n",
       "      <td>500.500000</td>\n",
       "    </tr>\n",
       "    <tr>\n",
       "      <th>50%</th>\n",
       "      <td>13.050000</td>\n",
       "      <td>1.865000</td>\n",
       "      <td>2.360000</td>\n",
       "      <td>19.500000</td>\n",
       "      <td>98.000000</td>\n",
       "      <td>2.355000</td>\n",
       "      <td>2.135000</td>\n",
       "      <td>0.340000</td>\n",
       "      <td>1.555000</td>\n",
       "      <td>4.690000</td>\n",
       "      <td>0.965000</td>\n",
       "      <td>2.780000</td>\n",
       "      <td>673.500000</td>\n",
       "    </tr>\n",
       "    <tr>\n",
       "      <th>75%</th>\n",
       "      <td>13.677500</td>\n",
       "      <td>3.082500</td>\n",
       "      <td>2.557500</td>\n",
       "      <td>21.500000</td>\n",
       "      <td>107.000000</td>\n",
       "      <td>2.800000</td>\n",
       "      <td>2.875000</td>\n",
       "      <td>0.437500</td>\n",
       "      <td>1.950000</td>\n",
       "      <td>6.200000</td>\n",
       "      <td>1.120000</td>\n",
       "      <td>3.170000</td>\n",
       "      <td>985.000000</td>\n",
       "    </tr>\n",
       "    <tr>\n",
       "      <th>max</th>\n",
       "      <td>14.830000</td>\n",
       "      <td>5.800000</td>\n",
       "      <td>3.230000</td>\n",
       "      <td>30.000000</td>\n",
       "      <td>162.000000</td>\n",
       "      <td>3.880000</td>\n",
       "      <td>5.080000</td>\n",
       "      <td>0.660000</td>\n",
       "      <td>3.580000</td>\n",
       "      <td>13.000000</td>\n",
       "      <td>1.710000</td>\n",
       "      <td>4.000000</td>\n",
       "      <td>1680.000000</td>\n",
       "    </tr>\n",
       "  </tbody>\n",
       "</table>\n",
       "</div>"
      ],
      "text/plain": [
       "          alcohol  malic_acid         ash  alcalinity_of_ash   magnesium  \\\n",
       "count  178.000000  178.000000  178.000000         178.000000  178.000000   \n",
       "mean    13.000618    2.336348    2.366517          19.494944   99.741573   \n",
       "std      0.811827    1.117146    0.274344           3.339564   14.282484   \n",
       "min     11.030000    0.740000    1.360000          10.600000   70.000000   \n",
       "25%     12.362500    1.602500    2.210000          17.200000   88.000000   \n",
       "50%     13.050000    1.865000    2.360000          19.500000   98.000000   \n",
       "75%     13.677500    3.082500    2.557500          21.500000  107.000000   \n",
       "max     14.830000    5.800000    3.230000          30.000000  162.000000   \n",
       "\n",
       "       total_phenols  flavanoids  nonflavanoid_phenols  proanthocyanins  \\\n",
       "count     178.000000  178.000000            178.000000       178.000000   \n",
       "mean        2.295112    2.029270              0.361854         1.590899   \n",
       "std         0.625851    0.998859              0.124453         0.572359   \n",
       "min         0.980000    0.340000              0.130000         0.410000   \n",
       "25%         1.742500    1.205000              0.270000         1.250000   \n",
       "50%         2.355000    2.135000              0.340000         1.555000   \n",
       "75%         2.800000    2.875000              0.437500         1.950000   \n",
       "max         3.880000    5.080000              0.660000         3.580000   \n",
       "\n",
       "       color_intensity         hue  od280/od315_of_diluted_wines      proline  \n",
       "count       178.000000  178.000000                    178.000000   178.000000  \n",
       "mean          5.058090    0.957449                      2.611685   746.893258  \n",
       "std           2.318286    0.228572                      0.709990   314.907474  \n",
       "min           1.280000    0.480000                      1.270000   278.000000  \n",
       "25%           3.220000    0.782500                      1.937500   500.500000  \n",
       "50%           4.690000    0.965000                      2.780000   673.500000  \n",
       "75%           6.200000    1.120000                      3.170000   985.000000  \n",
       "max          13.000000    1.710000                      4.000000  1680.000000  "
      ]
     },
     "execution_count": 47,
     "metadata": {},
     "output_type": "execute_result"
    }
   ],
   "source": [
    "# Pour générer les statistiques descriptives du jeu de données, utilisez la méthode describe() de Pandas\n",
    "descriptive_stats = wine_df.describe()\n",
    "descriptive_stats"
   ]
  },
  {
   "cell_type": "code",
   "execution_count": 48,
   "metadata": {},
   "outputs": [
    {
     "name": "stdout",
     "output_type": "stream",
     "text": [
      "Statistiques descriptives :\n",
      "count    178.000000\n",
      "mean      13.000618\n",
      "std        0.811827\n",
      "min       11.030000\n",
      "25%       12.362500\n",
      "50%       13.050000\n",
      "75%       13.677500\n",
      "max       14.830000\n",
      "Name: alcohol, dtype: float64\n",
      "\n"
     ]
    },
    {
     "data": {
      "image/png": "[encoded data removed]",
      "text/plain": [
       "<Figure size 1200x400 with 2 Axes>"
      ]
     },
     "metadata": {},
     "output_type": "display_data"
    },
    {
     "name": "stdout",
     "output_type": "stream",
     "text": [
      "Matrice de corrélation pour la variable \"alcohol\":\n",
      "alcohol                         1.000000\n",
      "malic_acid                      0.094397\n",
      "ash                             0.211545\n",
      "alcalinity_of_ash              -0.310235\n",
      "magnesium                       0.270798\n",
      "total_phenols                   0.289101\n",
      "flavanoids                      0.236815\n",
      "nonflavanoid_phenols           -0.155929\n",
      "proanthocyanins                 0.136698\n",
      "color_intensity                 0.546364\n",
      "hue                            -0.071747\n",
      "od280/od315_of_diluted_wines    0.072343\n",
      "proline                         0.643720\n",
      "Name: alcohol, dtype: float64\n",
      "\n",
      "--------------------------------------------------\n",
      "Statistiques descriptives :\n",
      "count    178.000000\n",
      "mean       2.336348\n",
      "std        1.117146\n",
      "min        0.740000\n",
      "25%        1.602500\n",
      "50%        1.865000\n",
      "75%        3.082500\n",
      "max        5.800000\n",
      "Name: malic_acid, dtype: float64\n",
      "\n"
     ]
    },
    {
     "data": {
      "image/png": "[encoded data removed]",
      "text/plain": [
       "<Figure size 1200x400 with 2 Axes>"
      ]
     },
     "metadata": {},
     "output_type": "display_data"
    },
    {
     "name": "stdout",
     "output_type": "stream",
     "text": [
      "Matrice de corrélation pour la variable \"malic_acid\":\n",
      "alcohol                         0.094397\n",
      "malic_acid                      1.000000\n",
      "ash                             0.164045\n",
      "alcalinity_of_ash               0.288500\n",
      "magnesium                      -0.054575\n",
      "total_phenols                  -0.335167\n",
      "flavanoids                     -0.411007\n",
      "nonflavanoid_phenols            0.292977\n",
      "proanthocyanins                -0.220746\n",
      "color_intensity                 0.248985\n",
      "hue                            -0.561296\n",
      "od280/od315_of_diluted_wines   -0.368710\n",
      "proline                        -0.192011\n",
      "Name: malic_acid, dtype: float64\n",
      "\n",
      "--------------------------------------------------\n",
      "Statistiques descriptives :\n",
      "count    178.000000\n",
      "mean       2.366517\n",
      "std        0.274344\n",
      "min        1.360000\n",
      "25%        2.210000\n",
      "50%        2.360000\n",
      "75%        2.557500\n",
      "max        3.230000\n",
      "Name: ash, dtype: float64\n",
      "\n"
     ]
    },
    {
     "data": {
      "image/png": "[encoded data removed]",
      "text/plain": [
       "<Figure size 1200x400 with 2 Axes>"
      ]
     },
     "metadata": {},
     "output_type": "display_data"
    },
    {
     "name": "stdout",
     "output_type": "stream",
     "text": [
      "Matrice de corrélation pour la variable \"ash\":\n",
      "alcohol                         0.211545\n",
      "malic_acid                      0.164045\n",
      "ash                             1.000000\n",
      "alcalinity_of_ash               0.443367\n",
      "magnesium                       0.286587\n",
      "total_phenols                   0.128980\n",
      "flavanoids                      0.115077\n",
      "nonflavanoid_phenols            0.186230\n",
      "proanthocyanins                 0.009652\n",
      "color_intensity                 0.258887\n",
      "hue                            -0.074667\n",
      "od280/od315_of_diluted_wines    0.003911\n",
      "proline                         0.223626\n",
      "Name: ash, dtype: float64\n",
      "\n",
      "--------------------------------------------------\n",
      "Statistiques descriptives :\n",
      "count    178.000000\n",
      "mean      19.494944\n",
      "std        3.339564\n",
      "min       10.600000\n",
      "25%       17.200000\n",
      "50%       19.500000\n",
      "75%       21.500000\n",
      "max       30.000000\n",
      "Name: alcalinity_of_ash, dtype: float64\n",
      "\n"
     ]
    },
    {
     "data": {
      "image/png": "[encoded data removed]",
      "text/plain": [
       "<Figure size 1200x400 with 2 Axes>"
      ]
     },
     "metadata": {},
     "output_type": "display_data"
    },
    {
     "name": "stdout",
     "output_type": "stream",
     "text": [
      "Matrice de corrélation pour la variable \"alcalinity_of_ash\":\n",
      "alcohol                        -0.310235\n",
      "malic_acid                      0.288500\n",
      "ash                             0.443367\n",
      "alcalinity_of_ash               1.000000\n",
      "magnesium                      -0.083333\n",
      "total_phenols                  -0.321113\n",
      "flavanoids                     -0.351370\n",
      "nonflavanoid_phenols            0.361922\n",
      "proanthocyanins                -0.197327\n",
      "color_intensity                 0.018732\n",
      "hue                            -0.273955\n",
      "od280/od315_of_diluted_wines   -0.276769\n",
      "proline                        -0.440597\n",
      "Name: alcalinity_of_ash, dtype: float64\n",
      "\n",
      "--------------------------------------------------\n",
      "Statistiques descriptives :\n",
      "count    178.000000\n",
      "mean      99.741573\n",
      "std       14.282484\n",
      "min       70.000000\n",
      "25%       88.000000\n",
      "50%       98.000000\n",
      "75%      107.000000\n",
      "max      162.000000\n",
      "Name: magnesium, dtype: float64\n",
      "\n"
     ]
    },
    {
     "data": {
      "image/png": "[encoded data removed]",
      "text/plain": [
       "<Figure size 1200x400 with 2 Axes>"
      ]
     },
     "metadata": {},
     "output_type": "display_data"
    },
    {
     "name": "stdout",
     "output_type": "stream",
     "text": [
      "Matrice de corrélation pour la variable \"magnesium\":\n",
      "alcohol                         0.270798\n",
      "malic_acid                     -0.054575\n",
      "ash                             0.286587\n",
      "alcalinity_of_ash              -0.083333\n",
      "magnesium                       1.000000\n",
      "total_phenols                   0.214401\n",
      "flavanoids                      0.195784\n",
      "nonflavanoid_phenols           -0.256294\n",
      "proanthocyanins                 0.236441\n",
      "color_intensity                 0.199950\n",
      "hue                             0.055398\n",
      "od280/od315_of_diluted_wines    0.066004\n",
      "proline                         0.393351\n",
      "Name: magnesium, dtype: float64\n",
      "\n",
      "--------------------------------------------------\n",
      "Statistiques descriptives :\n",
      "count    178.000000\n",
      "mean       2.295112\n",
      "std        0.625851\n",
      "min        0.980000\n",
      "25%        1.742500\n",
      "50%        2.355000\n",
      "75%        2.800000\n",
      "max        3.880000\n",
      "Name: total_phenols, dtype: float64\n",
      "\n"
     ]
    },
    {
     "data": {
      "image/png": "[encoded data removed]",
      "text/plain": [
       "<Figure size 1200x400 with 2 Axes>"
      ]
     },
     "metadata": {},
     "output_type": "display_data"
    },
    {
     "name": "stdout",
     "output_type": "stream",
     "text": [
      "Matrice de corrélation pour la variable \"total_phenols\":\n",
      "alcohol                         0.289101\n",
      "malic_acid                     -0.335167\n",
      "ash                             0.128980\n",
      "alcalinity_of_ash              -0.321113\n",
      "magnesium                       0.214401\n",
      "total_phenols                   1.000000\n",
      "flavanoids                      0.864564\n",
      "nonflavanoid_phenols           -0.449935\n",
      "proanthocyanins                 0.612413\n",
      "color_intensity                -0.055136\n",
      "hue                             0.433681\n",
      "od280/od315_of_diluted_wines    0.699949\n",
      "proline                         0.498115\n",
      "Name: total_phenols, dtype: float64\n",
      "\n",
      "--------------------------------------------------\n",
      "Statistiques descriptives :\n",
      "count    178.000000\n",
      "mean       2.029270\n",
      "std        0.998859\n",
      "min        0.340000\n",
      "25%        1.205000\n",
      "50%        2.135000\n",
      "75%        2.875000\n",
      "max        5.080000\n",
      "Name: flavanoids, dtype: float64\n",
      "\n"
     ]
    },
    {
     "data": {
      "image/png": "[encoded data removed]",
      "text/plain": [
       "<Figure size 1200x400 with 2 Axes>"
      ]
     },
     "metadata": {},
     "output_type": "display_data"
    },
    {
     "name": "stdout",
     "output_type": "stream",
     "text": [
      "Matrice de corrélation pour la variable \"flavanoids\":\n",
      "alcohol                         0.236815\n",
      "malic_acid                     -0.411007\n",
      "ash                             0.115077\n",
      "alcalinity_of_ash              -0.351370\n",
      "magnesium                       0.195784\n",
      "total_phenols                   0.864564\n",
      "flavanoids                      1.000000\n",
      "nonflavanoid_phenols           -0.537900\n",
      "proanthocyanins                 0.652692\n",
      "color_intensity                -0.172379\n",
      "hue                             0.543479\n",
      "od280/od315_of_diluted_wines    0.787194\n",
      "proline                         0.494193\n",
      "Name: flavanoids, dtype: float64\n",
      "\n",
      "--------------------------------------------------\n",
      "Statistiques descriptives :\n",
      "count    178.000000\n",
      "mean       0.361854\n",
      "std        0.124453\n",
      "min        0.130000\n",
      "25%        0.270000\n",
      "50%        0.340000\n",
      "75%        0.437500\n",
      "max        0.660000\n",
      "Name: nonflavanoid_phenols, dtype: float64\n",
      "\n"
     ]
    },
    {
     "data": {
      "image/png": "[encoded data removed]",
      "text/plain": [
       "<Figure size 1200x400 with 2 Axes>"
      ]
     },
     "metadata": {},
     "output_type": "display_data"
    },
    {
     "name": "stdout",
     "output_type": "stream",
     "text": [
      "Matrice de corrélation pour la variable \"nonflavanoid_phenols\":\n",
      "alcohol                        -0.155929\n",
      "malic_acid                      0.292977\n",
      "ash                             0.186230\n",
      "alcalinity_of_ash               0.361922\n",
      "magnesium                      -0.256294\n",
      "total_phenols                  -0.449935\n",
      "flavanoids                     -0.537900\n",
      "nonflavanoid_phenols            1.000000\n",
      "proanthocyanins                -0.365845\n",
      "color_intensity                 0.139057\n",
      "hue                            -0.262640\n",
      "od280/od315_of_diluted_wines   -0.503270\n",
      "proline                        -0.311385\n",
      "Name: nonflavanoid_phenols, dtype: float64\n",
      "\n",
      "--------------------------------------------------\n",
      "Statistiques descriptives :\n",
      "count    178.000000\n",
      "mean       1.590899\n",
      "std        0.572359\n",
      "min        0.410000\n",
      "25%        1.250000\n",
      "50%        1.555000\n",
      "75%        1.950000\n",
      "max        3.580000\n",
      "Name: proanthocyanins, dtype: float64\n",
      "\n"
     ]
    },
    {
     "data": {
      "image/png": "[encoded data removed]",
      "text/plain": [
       "<Figure size 1200x400 with 2 Axes>"
      ]
     },
     "metadata": {},
     "output_type": "display_data"
    },
    {
     "name": "stdout",
     "output_type": "stream",
     "text": [
      "Matrice de corrélation pour la variable \"proanthocyanins\":\n",
      "alcohol                         0.136698\n",
      "malic_acid                     -0.220746\n",
      "ash                             0.009652\n",
      "alcalinity_of_ash              -0.197327\n",
      "magnesium                       0.236441\n",
      "total_phenols                   0.612413\n",
      "flavanoids                      0.652692\n",
      "nonflavanoid_phenols           -0.365845\n",
      "proanthocyanins                 1.000000\n",
      "color_intensity                -0.025250\n",
      "hue                             0.295544\n",
      "od280/od315_of_diluted_wines    0.519067\n",
      "proline                         0.330417\n",
      "Name: proanthocyanins, dtype: float64\n",
      "\n",
      "--------------------------------------------------\n",
      "Statistiques descriptives :\n",
      "count    178.000000\n",
      "mean       5.058090\n",
      "std        2.318286\n",
      "min        1.280000\n",
      "25%        3.220000\n",
      "50%        4.690000\n",
      "75%        6.200000\n",
      "max       13.000000\n",
      "Name: color_intensity, dtype: float64\n",
      "\n"
     ]
    },
    {
     "data": {
      "image/png": "[encoded data removed]",
      "text/plain": [
       "<Figure size 1200x400 with 2 Axes>"
      ]
     },
     "metadata": {},
     "output_type": "display_data"
    },
    {
     "name": "stdout",
     "output_type": "stream",
     "text": [
      "Matrice de corrélation pour la variable \"color_intensity\":\n",
      "alcohol                         0.546364\n",
      "malic_acid                      0.248985\n",
      "ash                             0.258887\n",
      "alcalinity_of_ash               0.018732\n",
      "magnesium                       0.199950\n",
      "total_phenols                  -0.055136\n",
      "flavanoids                     -0.172379\n",
      "nonflavanoid_phenols            0.139057\n",
      "proanthocyanins                -0.025250\n",
      "color_intensity                 1.000000\n",
      "hue                            -0.521813\n",
      "od280/od315_of_diluted_wines   -0.428815\n",
      "proline                         0.316100\n",
      "Name: color_intensity, dtype: float64\n",
      "\n",
      "--------------------------------------------------\n",
      "Statistiques descriptives :\n",
      "count    178.000000\n",
      "mean       0.957449\n",
      "std        0.228572\n",
      "min        0.480000\n",
      "25%        0.782500\n",
      "50%        0.965000\n",
      "75%        1.120000\n",
      "max        1.710000\n",
      "Name: hue, dtype: float64\n",
      "\n"
     ]
    },
    {
     "data": {
      "image/png": "[encoded data removed]",
      "text/plain": [
       "<Figure size 1200x400 with 2 Axes>"
      ]
     },
     "metadata": {},
     "output_type": "display_data"
    },
    {
     "name": "stdout",
     "output_type": "stream",
     "text": [
      "Matrice de corrélation pour la variable \"hue\":\n",
      "alcohol                        -0.071747\n",
      "malic_acid                     -0.561296\n",
      "ash                            -0.074667\n",
      "alcalinity_of_ash              -0.273955\n",
      "magnesium                       0.055398\n",
      "total_phenols                   0.433681\n",
      "flavanoids                      0.543479\n",
      "nonflavanoid_phenols           -0.262640\n",
      "proanthocyanins                 0.295544\n",
      "color_intensity                -0.521813\n",
      "hue                             1.000000\n",
      "od280/od315_of_diluted_wines    0.565468\n",
      "proline                         0.236183\n",
      "Name: hue, dtype: float64\n",
      "\n",
      "--------------------------------------------------\n",
      "Statistiques descriptives :\n",
      "count    178.000000\n",
      "mean       2.611685\n",
      "std        0.709990\n",
      "min        1.270000\n",
      "25%        1.937500\n",
      "50%        2.780000\n",
      "75%        3.170000\n",
      "max        4.000000\n",
      "Name: od280/od315_of_diluted_wines, dtype: float64\n",
      "\n"
     ]
    },
    {
     "data": {
      "image/png": "[encoded data removed]",
      "text/plain": [
       "<Figure size 1200x400 with 2 Axes>"
      ]
     },
     "metadata": {},
     "output_type": "display_data"
    },
    {
     "name": "stdout",
     "output_type": "stream",
     "text": [
      "Matrice de corrélation pour la variable \"od280/od315_of_diluted_wines\":\n",
      "alcohol                         0.072343\n",
      "malic_acid                     -0.368710\n",
      "ash                             0.003911\n",
      "alcalinity_of_ash              -0.276769\n",
      "magnesium                       0.066004\n",
      "total_phenols                   0.699949\n",
      "flavanoids                      0.787194\n",
      "nonflavanoid_phenols           -0.503270\n",
      "proanthocyanins                 0.519067\n",
      "color_intensity                -0.428815\n",
      "hue                             0.565468\n",
      "od280/od315_of_diluted_wines    1.000000\n",
      "proline                         0.312761\n",
      "Name: od280/od315_of_diluted_wines, dtype: float64\n",
      "\n",
      "--------------------------------------------------\n",
      "Statistiques descriptives :\n",
      "count     178.000000\n",
      "mean      746.893258\n",
      "std       314.907474\n",
      "min       278.000000\n",
      "25%       500.500000\n",
      "50%       673.500000\n",
      "75%       985.000000\n",
      "max      1680.000000\n",
      "Name: proline, dtype: float64\n",
      "\n"
     ]
    },
    {
     "data": {
      "image/png": "[encoded data removed]",
      "text/plain": [
       "<Figure size 1200x400 with 2 Axes>"
      ]
     },
     "metadata": {},
     "output_type": "display_data"
    },
    {
     "name": "stdout",
     "output_type": "stream",
     "text": [
      "Matrice de corrélation pour la variable \"proline\":\n",
      "alcohol                         0.643720\n",
      "malic_acid                     -0.192011\n",
      "ash                             0.223626\n",
      "alcalinity_of_ash              -0.440597\n",
      "magnesium                       0.393351\n",
      "total_phenols                   0.498115\n",
      "flavanoids                      0.494193\n",
      "nonflavanoid_phenols           -0.311385\n",
      "proanthocyanins                 0.330417\n",
      "color_intensity                 0.316100\n",
      "hue                             0.236183\n",
      "od280/od315_of_diluted_wines    0.312761\n",
      "proline                         1.000000\n",
      "Name: proline, dtype: float64\n",
      "\n",
      "--------------------------------------------------\n"
     ]
    }
   ],
   "source": [
    "variables = [\n",
    "    'alcohol',\n",
    "    'malic_acid',\n",
    "    'ash',\n",
    "    'alcalinity_of_ash',\n",
    "    'magnesium',\n",
    "    'total_phenols',\n",
    "    'flavanoids',\n",
    "    'nonflavanoid_phenols',\n",
    "    'proanthocyanins',\n",
    "    'color_intensity',\n",
    "    'hue',\n",
    "    'od280/od315_of_diluted_wines',\n",
    "    'proline'\n",
    "]\n",
    "\n",
    "for variable in variables:\n",
    "    # Statistiques descriptives\n",
    "    descriptive_stats = wine_df[variable].describe()\n",
    "    print(f\"Statistiques descriptives :\\n{descriptive_stats}\\n\")\n",
    "\n",
    "    # Visualisation de la distribution\n",
    "    plt.figure(figsize=(12, 4))\n",
    "    plt.subplot(1, 2, 1)\n",
    "    plt.hist(wine_df[variable])\n",
    "    plt.title(f'Histogramme de la variable \"{variable}\"')\n",
    "    plt.xlabel(variable)\n",
    "    plt.ylabel('Fréquence')\n",
    "\n",
    "    plt.subplot(1, 2, 2)\n",
    "    plt.boxplot(wine_df[variable], vert=False)\n",
    "    plt.title(f'Boxplot de la variable \"{variable}\"')\n",
    "    plt.xlabel(variable)\n",
    "    plt.tight_layout()\n",
    "    plt.show()\n",
    "\n",
    "    # Corrélation avec d'autres variables\n",
    "    correlation_matrix = wine_df.corr()\n",
    "    variable_correlation = correlation_matrix[variable]\n",
    "    print(f\"Matrice de corrélation pour la variable \\\"{variable}\\\":\\n{variable_correlation}\\n\")\n",
    "\n",
    "    print(\"-\" * 50)"
   ]
  },
  {
   "cell_type": "markdown",
   "metadata": {
    "id": "zC2cPCxmyBpR"
   },
   "source": [
    "-------------------------------------------"
   ]
  },
  {
   "cell_type": "markdown",
   "metadata": {
    "id": "uIGpt7c1yE8Z"
   },
   "source": [
    "## Job 16\n",
    "Une loi de probabilité décrit le comportement aléatoire d'un phénomène dépendant du hasard tels que les lancers de pièces, les dés, les jeux de cartes, et d'autres événements plus complexes.\n",
    "\n",
    "Considérons la Loi Normale, l'unes des plus importantes en probabilités et en statistique. Les lois normales sont parmi les lois de probabilité les plus utilisées pour modéliser des phénomènes naturels issus de plusieurs événements aléatoires. Elle est caractérisée par sa forme en cloche symétrique.\n",
    "\n",
    "**Simulez la Loi Normale $\\mathcal{N}(0, 1)$ où la moyenne est $0$ et l'écart-type est $1$ :**\n",
    "1. Générez des échantillons à partir de la distribution normale en utilisant la fonction `np.random.normal`\n",
    "\n",
    "2. Affichez l'histogramme des données\n",
    "\n",
    "3. Tracez la courbe de densité de probabilité théorique de $\\mathcal{N}(0, 1)$ en traçant la fonction $f(x)$ ci-dessous :\n",
    "\n",
    "$$ f(x) = \\frac{1}{1 \\sqrt{2\\pi}} \\times e^{-\\frac{1}{2} \\times x^2 }$$"
   ]
  },
  {
   "cell_type": "code",
   "execution_count": null,
   "metadata": {
    "id": "YL8L6xcCzoDQ"
   },
   "outputs": [],
   "source": []
  },
  {
   "cell_type": "markdown",
   "metadata": {
    "id": "MzR1Pu8BwXih"
   },
   "source": [
    "----------------------------------"
   ]
  },
  {
   "cell_type": "markdown",
   "metadata": {
    "id": "HM9Q73J0U9WB"
   },
   "source": [
    "# Calcul de dérivée"
   ]
  },
  {
   "cell_type": "markdown",
   "metadata": {
    "id": "EzuMXD8pP5CX"
   },
   "source": [
    "## Job 17\n",
    "\n",
    "En mathématiques, la dérivée d'une fonction d'une variable réelle mesure l'ampleur du changement de la valeur de la fonction (valeur de sortie) par rapport à un petit changement de son argument (valeur d'entrée). Les calculs de dérivées sont un outil fondamental du calcul infinitésimal. Par exemple, la dérivée de la position d'un objet en mouvement par rapport au temps est la vitesse (instantanée) de l'objet.\n",
    "\n",
    "\\\n",
    "\n",
    "Calculez la dérivée des fonctions suivantes à l'aide la librairie `SymPy` :\n",
    "\n",
    "1. $f(x) = 3x^2 - 2x + 5$\n",
    "\n",
    "2. $g(x) = \\frac{2}{x^2}$\n",
    "\n",
    "3. $h(x) = \\sqrt{3x - 1}$\n",
    "\n",
    "4. $k(x) = e^{x}$\n",
    "\n",
    "5. $l(x) = ln(x)$\n",
    "\n",
    "6. $p(x) = \\sqrt{x} + 2x^3$\n",
    "\n",
    "7. $q(x) = sin(x)$\n",
    "\n",
    "8. $r(x) = \\frac{x^2 + 1}{x-1}$"
   ]
  },
  {
   "cell_type": "code",
   "execution_count": 49,
   "metadata": {
    "id": "v1S2lF7iUbGd"
   },
   "outputs": [
    {
     "data": {
      "text/latex": [
       "$\\displaystyle 6 x - 2$"
      ],
      "text/plain": [
       "6*x - 2"
      ]
     },
     "execution_count": 49,
     "metadata": {},
     "output_type": "execute_result"
    }
   ],
   "source": [
    "# Définissez la variable symbolique\n",
    "x = sp.symbols('x')\n",
    "\n",
    "# Définissez la fonction\n",
    "f = 3 * x**2 - 2 * x + 5\n",
    "# Calculez la dérivée\n",
    "sp.diff(f,x)\n",
    "\n"
   ]
  },
  {
   "cell_type": "code",
   "execution_count": 50,
   "metadata": {},
   "outputs": [
    {
     "data": {
      "text/latex": [
       "$\\displaystyle - \\frac{4}{x^{3}}$"
      ],
      "text/plain": [
       "-4/x**3"
      ]
     },
     "execution_count": 50,
     "metadata": {},
     "output_type": "execute_result"
    }
   ],
   "source": [
    "g = 2 / x**2\n",
    "sp.diff(g, x)"
   ]
  },
  {
   "cell_type": "code",
   "execution_count": 51,
   "metadata": {},
   "outputs": [
    {
     "data": {
      "text/latex": [
       "$\\displaystyle \\frac{3}{2 \\sqrt{3 x - 1}}$"
      ],
      "text/plain": [
       "3/(2*sqrt(3*x - 1))"
      ]
     },
     "execution_count": 51,
     "metadata": {},
     "output_type": "execute_result"
    }
   ],
   "source": [
    "h = sp.sqrt(3*x - 1)\n",
    "sp.diff(h, x)"
   ]
  },
  {
   "cell_type": "code",
   "execution_count": 52,
   "metadata": {},
   "outputs": [
    {
     "data": {
      "text/latex": [
       "$\\displaystyle e^{x}$"
      ],
      "text/plain": [
       "exp(x)"
      ]
     },
     "execution_count": 52,
     "metadata": {},
     "output_type": "execute_result"
    }
   ],
   "source": [
    "k = sp.exp(x)\n",
    "sp.diff(k, x)"
   ]
  },
  {
   "cell_type": "code",
   "execution_count": 53,
   "metadata": {},
   "outputs": [
    {
     "data": {
      "text/latex": [
       "$\\displaystyle \\frac{1}{x}$"
      ],
      "text/plain": [
       "1/x"
      ]
     },
     "execution_count": 53,
     "metadata": {},
     "output_type": "execute_result"
    }
   ],
   "source": [
    "l= sp.ln(x)\n",
    "sp.diff(l, x)"
   ]
  },
  {
   "cell_type": "code",
   "execution_count": 54,
   "metadata": {},
   "outputs": [
    {
     "data": {
      "text/latex": [
       "$\\displaystyle 6 x^{2} + \\frac{1}{2 \\sqrt{x}}$"
      ],
      "text/plain": [
       "6*x**2 + 1/(2*sqrt(x))"
      ]
     },
     "execution_count": 54,
     "metadata": {},
     "output_type": "execute_result"
    }
   ],
   "source": [
    "p = sp.sqrt(x) + 2 * x**3\n",
    "sp.diff(p, x)"
   ]
  },
  {
   "cell_type": "code",
   "execution_count": 55,
   "metadata": {},
   "outputs": [
    {
     "data": {
      "text/latex": [
       "$\\displaystyle \\cos{\\left(x \\right)}$"
      ],
      "text/plain": [
       "cos(x)"
      ]
     },
     "execution_count": 55,
     "metadata": {},
     "output_type": "execute_result"
    }
   ],
   "source": [
    "q = sp.sin(x)\n",
    "sp.diff(q, x)"
   ]
  },
  {
   "cell_type": "code",
   "execution_count": 56,
   "metadata": {},
   "outputs": [
    {
     "data": {
      "text/latex": [
       "$\\displaystyle \\frac{2 x}{x - 1} - \\frac{x^{2} + 1}{\\left(x - 1\\right)^{2}}$"
      ],
      "text/plain": [
       "2*x/(x - 1) - (x**2 + 1)/(x - 1)**2"
      ]
     },
     "execution_count": 56,
     "metadata": {},
     "output_type": "execute_result"
    }
   ],
   "source": [
    "r = (x**2 + 1) / (x - 1)\n",
    "sp.diff(r, x)"
   ]
  },
  {
   "cell_type": "code",
   "execution_count": null,
   "metadata": {},
   "outputs": [],
   "source": []
  },
  {
   "cell_type": "markdown",
   "metadata": {
    "id": "lCCEJlbCYbOG"
   },
   "source": [
    "----------------------------------------------------------------------"
   ]
  },
  {
   "cell_type": "markdown",
   "metadata": {
    "id": "MF70NYVuJNty"
   },
   "source": [
    "# Toujours plus loin..."
   ]
  },
  {
   "cell_type": "markdown",
   "metadata": {
    "id": "uA0coLJoPxyx"
   },
   "source": [
    "## **Job Bonus 1**\n",
    "A l'aide de ce que vous avez appris dans le *job 16*, réalisez une simulation du **Théorème Central Limit**.\n",
    "\n",
    "*Pour des raisons d'organisation et de lisibilité de votre notebook, créez votre implémentation dans des fichiers .py que vous viendrez appeler à l'aide de la cellule ci-dessous :*"
   ]
  },
  {
   "cell_type": "code",
   "execution_count": null,
   "metadata": {
    "id": "RVbjzQVXP1kL"
   },
   "outputs": [],
   "source": []
  },
  {
   "cell_type": "markdown",
   "metadata": {
    "id": "iUoIMe-JYdrP"
   },
   "source": [
    "----------------------------------------------------------------------"
   ]
  },
  {
   "cell_type": "markdown",
   "metadata": {
    "id": "JIQ8RlMGwZyt"
   },
   "source": [
    "## **Job Bonus 2**\n",
    "\n",
    "**Un algorithme de tri, notion fondamentale en informatique ou en mathématiques, est un algorithme qui permet d'organiser une collection d'objets selon une relation d'ordre déterminée. Suivant la relation d'ordre considérée, une même collection d’objet peut donner lieu à divers arrangements.**\n",
    "\n",
    "Par exemple, on pourrait trier un tableau `tab` d'entiers naturels de $1$ à $N$ dans un ordre croissant ou décroissant.\n",
    "\n",
    "L'implémentation des algorithmes de tri est un excellent exercice pour comprendre des concepts fondamentaux de la programmation, comprendre d'autres algorithmes et se préparer à des entretiens techniques.\n",
    "\n",
    "Tentez d'implémenter un ou plusieurs des algorithmes de tri suivants :\n",
    "\n",
    "* **Tri à bulles (bubble sort)**\n",
    "* **Tri par insertion (Insertion sort)**\n",
    "* **Tri fusion (merge sort)**\n",
    "* **Tri rapide (quick sort)**\n",
    "\n",
    "\n",
    "\n",
    "*Pour des raisons d'organisation et lisibilité de votre notebook, créez vos différentes implémentations des algorithmes de tri dans des fichiers .py que vous viendrez appeler à l'aide de la cellule ci-dessous :*"
   ]
  },
  {
   "cell_type": "code",
   "execution_count": 57,
   "metadata": {
    "id": "q3BmeEQSxM0g"
   },
   "outputs": [
    {
     "name": "stdout",
     "output_type": "stream",
     "text": [
      "This is my original list: [64, 34, 25, 12, 22, 11, 90]\n"
     ]
    },
    {
     "ename": "NameError",
     "evalue": "name 'some_sorting_alg' is not defined",
     "output_type": "error",
     "traceback": [
      "\u001b[1;31m---------------------------------------------------------------------------\u001b[0m",
      "\u001b[1;31mNameError\u001b[0m                                 Traceback (most recent call last)",
      "\u001b[1;32mc:\\Users\\djamel\\git\\philomathia\\Philomathia-checkpoint.ipynb Cell 117\u001b[0m line \u001b[0;36m8\n\u001b[0;32m      <a href='vscode-notebook-cell:/c%3A/Users/djamel/git/philomathia/Philomathia-checkpoint.ipynb#Y224sZmlsZQ%3D%3D?line=4'>5</a>\u001b[0m \u001b[39mprint\u001b[39m(\u001b[39m\"\u001b[39m\u001b[39mThis is my original list:\u001b[39m\u001b[39m\"\u001b[39m, input_list)\n\u001b[0;32m      <a href='vscode-notebook-cell:/c%3A/Users/djamel/git/philomathia/Philomathia-checkpoint.ipynb#Y224sZmlsZQ%3D%3D?line=6'>7</a>\u001b[0m \u001b[39m# Tri de la list à l'aide d'un algorithme donné - ?\u001b[39;00m\n\u001b[1;32m----> <a href='vscode-notebook-cell:/c%3A/Users/djamel/git/philomathia/Philomathia-checkpoint.ipynb#Y224sZmlsZQ%3D%3D?line=7'>8</a>\u001b[0m sorted_list \u001b[39m=\u001b[39m some_sorting_alg(input_list)\n\u001b[0;32m     <a href='vscode-notebook-cell:/c%3A/Users/djamel/git/philomathia/Philomathia-checkpoint.ipynb#Y224sZmlsZQ%3D%3D?line=9'>10</a>\u001b[0m \u001b[39mprint\u001b[39m(\u001b[39m\"\u001b[39m\u001b[39mThis is my sorted list:\u001b[39m\u001b[39m\"\u001b[39m, sorted_list)\n",
      "\u001b[1;31mNameError\u001b[0m: name 'some_sorting_alg' is not defined"
     ]
    }
   ],
   "source": [
    "# Example of a list to be sorted - feel free to try something else!\n",
    "\n",
    "input_list = [64, 34, 25, 12, 22, 11, 90]\n",
    "\n",
    "print(\"This is my original list:\", input_list)\n",
    "\n",
    "# Tri de la list à l'aide d'un algorithme donné - ?\n",
    "sorted_list = some_sorting_alg(input_list)\n",
    "\n",
    "print(\"This is my sorted list:\", sorted_list)"
   ]
  }
 ],
 "metadata": {
  "colab": {
   "provenance": [
    {
     "file_id": "11kCX9ZKu4Z-l7-iefUwn8FdO9BGHIeeT",
     "timestamp": 1699280981322
    }
   ]
  },
  "kernelspec": {
   "display_name": "Python 3 (ipykernel)",
   "language": "python",
   "name": "python3"
  },
  "language_info": {
   "codemirror_mode": {
    "name": "ipython",
    "version": 3
   },
   "file_extension": ".py",
   "mimetype": "text/x-python",
   "name": "python",
   "nbconvert_exporter": "python",
   "pygments_lexer": "ipython3",
   "version": "3.10.9"
  }
 },
 "nbformat": 4,
 "nbformat_minor": 1
}
